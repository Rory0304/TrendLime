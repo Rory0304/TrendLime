{
 "cells": [
  {
   "cell_type": "code",
   "execution_count": 1,
   "id": "5a0cdf3b",
   "metadata": {
    "ExecuteTime": {
     "end_time": "2021-12-01T02:12:37.400443Z",
     "start_time": "2021-12-01T02:12:29.707598Z"
    }
   },
   "outputs": [],
   "source": [
    "import re\n",
    "import requests\n",
    "from bs4 import BeautifulSoup\n",
    "import pandas as pd\n",
    "from konlpy.tag import Okt  \n",
    "okt = Okt() \n",
    "import tensorflow as tf\n",
    "import numpy as np\n",
    "from collections import Counter\n",
    "\n",
    "from wordcloud import WordCloud\n",
    "import matplotlib.pyplot as plt\n",
    "\n",
    "\n",
    "import urllib.request\n",
    "from tqdm import tqdm\n",
    "from tensorflow.keras.preprocessing.text import Tokenizer\n",
    "from tensorflow.keras.preprocessing.sequence import pad_sequences\n",
    "from sklearn.model_selection import train_test_split\n",
    "from sklearn.feature_extraction.text import CountVectorizer"
   ]
  },
  {
   "cell_type": "code",
   "execution_count": 2,
   "id": "4784956c",
   "metadata": {
    "ExecuteTime": {
     "end_time": "2021-12-01T02:12:37.448486Z",
     "start_time": "2021-12-01T02:12:37.436448Z"
    }
   },
   "outputs": [],
   "source": [
    "import matplotlib.pyplot as plt \n",
    "from string import punctuation\n",
    "import warnings\n",
    "warnings.filterwarnings('ignore')"
   ]
  },
  {
   "cell_type": "code",
   "execution_count": 3,
   "id": "c7f8edfb",
   "metadata": {
    "ExecuteTime": {
     "end_time": "2021-12-01T02:12:37.826831Z",
     "start_time": "2021-12-01T02:12:37.488448Z"
    }
   },
   "outputs": [],
   "source": [
    "import seaborn as sns\n",
    "import matplotlib.font_manager as fm\n",
    "\n",
    "# jupyter notebook 내 그래프를 바로 그리기 위한 설정\n",
    "%matplotlib inline\n",
    "\n",
    "plt.rc('font', family='malgun gothic') # 그래프에서 한글 깨지는 현상 방지\n",
    "plt.rcParams['axes.unicode_minus']=False #음수 부호 깨짐 방지"
   ]
  },
  {
   "cell_type": "markdown",
   "id": "9e875e8e",
   "metadata": {},
   "source": [
    "---"
   ]
  },
  {
   "cell_type": "markdown",
   "id": "135b7d4f",
   "metadata": {},
   "source": [
    "## Like Count"
   ]
  },
  {
   "cell_type": "markdown",
   "id": "03e4e229",
   "metadata": {},
   "source": [
    "### 데이터 불러오기"
   ]
  },
  {
   "cell_type": "code",
   "execution_count": 4,
   "id": "383d38cd",
   "metadata": {
    "ExecuteTime": {
     "end_time": "2021-12-01T02:14:33.208439Z",
     "start_time": "2021-12-01T02:14:32.911267Z"
    }
   },
   "outputs": [
    {
     "name": "stdout",
     "output_type": "stream",
     "text": [
      "<class 'pandas.core.frame.DataFrame'>\n",
      "RangeIndex: 3425 entries, 0 to 3424\n",
      "Data columns (total 9 columns):\n",
      " #   Column      Non-Null Count  Dtype \n",
      "---  ------      --------------  ----- \n",
      " 0   song_id     3425 non-null   int64 \n",
      " 1   song_name   3425 non-null   object\n",
      " 2   artist      3425 non-null   object\n",
      " 3   album       3425 non-null   object\n",
      " 4   Like_Count  3425 non-null   object\n",
      " 5   Lyric       3425 non-null   object\n",
      " 6   cover_url   3425 non-null   object\n",
      " 7   tags        3425 non-null   object\n",
      " 8   year        3425 non-null   object\n",
      "dtypes: int64(1), object(8)\n",
      "memory usage: 240.9+ KB\n"
     ]
    }
   ],
   "source": [
    "total_years = pd.read_csv('total_years.csv')\n",
    "total_years.info()"
   ]
  },
  {
   "cell_type": "markdown",
   "id": "f0ff9b00",
   "metadata": {
    "ExecuteTime": {
     "end_time": "2021-12-01T02:19:45.648603Z",
     "start_time": "2021-12-01T02:19:45.638497Z"
    }
   },
   "source": [
    "## 전처리\n",
    "* Like_Count 괄호 제거\n",
    "* 숫자형변환"
   ]
  },
  {
   "cell_type": "code",
   "execution_count": 5,
   "id": "15497460",
   "metadata": {
    "ExecuteTime": {
     "end_time": "2021-12-01T02:14:41.824605Z",
     "start_time": "2021-12-01T02:14:41.804640Z"
    }
   },
   "outputs": [],
   "source": [
    "total_years['Like_Count'] = total_years['Like_Count'].str.replace('\\[', \"\").replace('\\]', '', regex= True).replace(',', '', regex= True)\n",
    "total_years['Like_Count'] = total_years['Like_Count'].astype(int)\n"
   ]
  },
  {
   "cell_type": "code",
   "execution_count": 6,
   "id": "124a904c",
   "metadata": {
    "ExecuteTime": {
     "end_time": "2021-12-01T02:14:42.877573Z",
     "start_time": "2021-12-01T02:14:42.844525Z"
    }
   },
   "outputs": [
    {
     "data": {
      "text/html": [
       "<div>\n",
       "<style scoped>\n",
       "    .dataframe tbody tr th:only-of-type {\n",
       "        vertical-align: middle;\n",
       "    }\n",
       "\n",
       "    .dataframe tbody tr th {\n",
       "        vertical-align: top;\n",
       "    }\n",
       "\n",
       "    .dataframe thead th {\n",
       "        text-align: right;\n",
       "    }\n",
       "</style>\n",
       "<table border=\"1\" class=\"dataframe\">\n",
       "  <thead>\n",
       "    <tr style=\"text-align: right;\">\n",
       "      <th></th>\n",
       "      <th>song_id</th>\n",
       "      <th>song_name</th>\n",
       "      <th>artist</th>\n",
       "      <th>album</th>\n",
       "      <th>Like_Count</th>\n",
       "      <th>Lyric</th>\n",
       "      <th>cover_url</th>\n",
       "      <th>tags</th>\n",
       "      <th>year</th>\n",
       "    </tr>\n",
       "  </thead>\n",
       "  <tbody>\n",
       "    <tr>\n",
       "      <th>0</th>\n",
       "      <td>1373123</td>\n",
       "      <td>신라의 달밤</td>\n",
       "      <td>현인</td>\n",
       "      <td>현인</td>\n",
       "      <td>101</td>\n",
       "      <td>아 신라의 밤이여  불국사의 종소리 들리어 온다  지나가는 나그네야 걸음을 멈추어라...</td>\n",
       "      <td>https://image.bugsm.co.kr/album/images/200/113...</td>\n",
       "      <td>['연도별 인기가요', '올디스', '연대별', '연대별 음악']</td>\n",
       "      <td>1940y</td>\n",
       "    </tr>\n",
       "    <tr>\n",
       "      <th>1</th>\n",
       "      <td>196368</td>\n",
       "      <td>내 고향을 리별하고</td>\n",
       "      <td>안기영</td>\n",
       "      <td>유성기로 듣던 가요사 (1925~1945)</td>\n",
       "      <td>66</td>\n",
       "      <td>내 고향을 이별하고 타관에 와서  적적한 밤 홀로 앉아서 생각을 하니  답답한 맘을...</td>\n",
       "      <td>https://image.bugsm.co.kr/album/images/200/100...</td>\n",
       "      <td>['연도별 인기가요', '올디스', '연대별', '연대별 음악']</td>\n",
       "      <td>1940y</td>\n",
       "    </tr>\n",
       "  </tbody>\n",
       "</table>\n",
       "</div>"
      ],
      "text/plain": [
       "   song_id   song_name artist                    album  Like_Count  \\\n",
       "0  1373123      신라의 달밤     현인                       현인         101   \n",
       "1   196368  내 고향을 리별하고    안기영  유성기로 듣던 가요사 (1925~1945)          66   \n",
       "\n",
       "                                               Lyric  \\\n",
       "0  아 신라의 밤이여  불국사의 종소리 들리어 온다  지나가는 나그네야 걸음을 멈추어라...   \n",
       "1  내 고향을 이별하고 타관에 와서  적적한 밤 홀로 앉아서 생각을 하니  답답한 맘을...   \n",
       "\n",
       "                                           cover_url  \\\n",
       "0  https://image.bugsm.co.kr/album/images/200/113...   \n",
       "1  https://image.bugsm.co.kr/album/images/200/100...   \n",
       "\n",
       "                                   tags   year  \n",
       "0  ['연도별 인기가요', '올디스', '연대별', '연대별 음악']  1940y  \n",
       "1  ['연도별 인기가요', '올디스', '연대별', '연대별 음악']  1940y  "
      ]
     },
     "execution_count": 6,
     "metadata": {},
     "output_type": "execute_result"
    }
   ],
   "source": [
    "total_years.head(2)"
   ]
  },
  {
   "cell_type": "markdown",
   "id": "f6da8dbe",
   "metadata": {},
   "source": [
    "## 정렬 \n",
    "* sort_values\n",
    "* ascending = False"
   ]
  },
  {
   "cell_type": "code",
   "execution_count": 7,
   "id": "2f118e87",
   "metadata": {
    "ExecuteTime": {
     "end_time": "2021-12-01T02:14:47.345248Z",
     "start_time": "2021-12-01T02:14:47.325023Z"
    }
   },
   "outputs": [],
   "source": [
    "sort_like = total_years.sort_values(by= 'Like_Count',ascending=False)"
   ]
  },
  {
   "cell_type": "markdown",
   "id": "98af1fe3",
   "metadata": {},
   "source": [
    "### 중복 제거"
   ]
  },
  {
   "cell_type": "code",
   "execution_count": 8,
   "id": "11e81996",
   "metadata": {
    "ExecuteTime": {
     "end_time": "2021-12-01T02:14:49.583438Z",
     "start_time": "2021-12-01T02:14:49.549336Z"
    }
   },
   "outputs": [],
   "source": [
    "sort_like.drop_duplicates(['song_id','song_name'], keep='first',inplace=True)"
   ]
  },
  {
   "cell_type": "markdown",
   "id": "9d86d6c4",
   "metadata": {},
   "source": [
    "### index (iloc) 재정의"
   ]
  },
  {
   "cell_type": "code",
   "execution_count": 9,
   "id": "815417f1",
   "metadata": {
    "ExecuteTime": {
     "end_time": "2021-12-01T02:15:10.666627Z",
     "start_time": "2021-12-01T02:15:10.651594Z"
    }
   },
   "outputs": [],
   "source": [
    "sort_like= sort_like.reset_index(drop=True)"
   ]
  },
  {
   "cell_type": "code",
   "execution_count": 10,
   "id": "fcbf6349",
   "metadata": {
    "ExecuteTime": {
     "end_time": "2021-12-01T02:15:11.584314Z",
     "start_time": "2021-12-01T02:15:11.571314Z"
    },
    "scrolled": false
   },
   "outputs": [
    {
     "data": {
      "text/html": [
       "<div>\n",
       "<style scoped>\n",
       "    .dataframe tbody tr th:only-of-type {\n",
       "        vertical-align: middle;\n",
       "    }\n",
       "\n",
       "    .dataframe tbody tr th {\n",
       "        vertical-align: top;\n",
       "    }\n",
       "\n",
       "    .dataframe thead th {\n",
       "        text-align: right;\n",
       "    }\n",
       "</style>\n",
       "<table border=\"1\" class=\"dataframe\">\n",
       "  <thead>\n",
       "    <tr style=\"text-align: right;\">\n",
       "      <th></th>\n",
       "      <th>song_id</th>\n",
       "      <th>song_name</th>\n",
       "      <th>artist</th>\n",
       "      <th>album</th>\n",
       "      <th>Like_Count</th>\n",
       "      <th>Lyric</th>\n",
       "      <th>cover_url</th>\n",
       "      <th>tags</th>\n",
       "      <th>year</th>\n",
       "    </tr>\n",
       "  </thead>\n",
       "  <tbody>\n",
       "    <tr>\n",
       "      <th>0</th>\n",
       "      <td>418253</td>\n",
       "      <td>보고 싶다</td>\n",
       "      <td>김범수</td>\n",
       "      <td>3rd. 보고 싶다</td>\n",
       "      <td>342238</td>\n",
       "      <td>아무리 기다려도 난 못가   바보처럼 울고 있는 너의 곁에  상처만 주는 나를 왜 ...</td>\n",
       "      <td>https://image.bugsm.co.kr/album/images/200/262...</td>\n",
       "      <td>['국내', '가요', '노래방', '2000년대', '연대별', 'Y세대', '연...</td>\n",
       "      <td>2000y</td>\n",
       "    </tr>\n",
       "    <tr>\n",
       "      <th>1</th>\n",
       "      <td>445413</td>\n",
       "      <td>사랑합니다...</td>\n",
       "      <td>팀</td>\n",
       "      <td>Tim 영민</td>\n",
       "      <td>332812</td>\n",
       "      <td>나빠요 참 그대란 사람   허락도 없이 왜 내 맘 가져요   그대 때문에 난 힘겹게...</td>\n",
       "      <td>https://image.bugsm.co.kr/album/images/200/307...</td>\n",
       "      <td>['국내', '가요', '노래방', '2000년대', '연대별', 'Y세대', '연...</td>\n",
       "      <td>2000y</td>\n",
       "    </tr>\n",
       "    <tr>\n",
       "      <th>2</th>\n",
       "      <td>489056</td>\n",
       "      <td>어쩌면...</td>\n",
       "      <td>버즈</td>\n",
       "      <td>Morning Of Buzz</td>\n",
       "      <td>295142</td>\n",
       "      <td>어쩌면 오늘이 마지막이 될지도 몰라   나의 사랑이 떠날지 몰라   불안한 나의 마...</td>\n",
       "      <td>https://image.bugsm.co.kr/album/images/200/328...</td>\n",
       "      <td>['국내', '락발라드', '발라드한', '2000년대', '세부장르', '100시...</td>\n",
       "      <td>2000y</td>\n",
       "    </tr>\n",
       "    <tr>\n",
       "      <th>3</th>\n",
       "      <td>460396</td>\n",
       "      <td>소주 한 잔</td>\n",
       "      <td>임창정</td>\n",
       "      <td>Bye</td>\n",
       "      <td>277351</td>\n",
       "      <td>술이 한 잔 생각나는 밤 같이 있는 것 같아요  그 좋았던 시절들 이젠 모두 한숨만...</td>\n",
       "      <td>https://image.bugsm.co.kr/album/images/200/314...</td>\n",
       "      <td>['국내', '가요', '노래방', '2000년대', '연대별', 'Y세대', '연...</td>\n",
       "      <td>2000y</td>\n",
       "    </tr>\n",
       "    <tr>\n",
       "      <th>4</th>\n",
       "      <td>482653</td>\n",
       "      <td>With Me</td>\n",
       "      <td>휘성(Realslow)</td>\n",
       "      <td>It's Real</td>\n",
       "      <td>268787</td>\n",
       "      <td>네 손짓 하나 보는 게 난 좋은데   네 목소리를 듣는 것도 좋은데   왜 넌 내 ...</td>\n",
       "      <td>https://image.bugsm.co.kr/album/images/200/325...</td>\n",
       "      <td>['국내', '알앤비', '연대별', '2000년대', '연대별 음악']</td>\n",
       "      <td>2000y</td>\n",
       "    </tr>\n",
       "  </tbody>\n",
       "</table>\n",
       "</div>"
      ],
      "text/plain": [
       "   song_id song_name        artist            album  Like_Count  \\\n",
       "0   418253     보고 싶다           김범수       3rd. 보고 싶다      342238   \n",
       "1   445413  사랑합니다...             팀           Tim 영민      332812   \n",
       "2   489056    어쩌면...            버즈  Morning Of Buzz      295142   \n",
       "3   460396    소주 한 잔           임창정              Bye      277351   \n",
       "4   482653   With Me  휘성(Realslow)        It's Real      268787   \n",
       "\n",
       "                                               Lyric  \\\n",
       "0  아무리 기다려도 난 못가   바보처럼 울고 있는 너의 곁에  상처만 주는 나를 왜 ...   \n",
       "1  나빠요 참 그대란 사람   허락도 없이 왜 내 맘 가져요   그대 때문에 난 힘겹게...   \n",
       "2  어쩌면 오늘이 마지막이 될지도 몰라   나의 사랑이 떠날지 몰라   불안한 나의 마...   \n",
       "3  술이 한 잔 생각나는 밤 같이 있는 것 같아요  그 좋았던 시절들 이젠 모두 한숨만...   \n",
       "4  네 손짓 하나 보는 게 난 좋은데   네 목소리를 듣는 것도 좋은데   왜 넌 내 ...   \n",
       "\n",
       "                                           cover_url  \\\n",
       "0  https://image.bugsm.co.kr/album/images/200/262...   \n",
       "1  https://image.bugsm.co.kr/album/images/200/307...   \n",
       "2  https://image.bugsm.co.kr/album/images/200/328...   \n",
       "3  https://image.bugsm.co.kr/album/images/200/314...   \n",
       "4  https://image.bugsm.co.kr/album/images/200/325...   \n",
       "\n",
       "                                                tags   year  \n",
       "0  ['국내', '가요', '노래방', '2000년대', '연대별', 'Y세대', '연...  2000y  \n",
       "1  ['국내', '가요', '노래방', '2000년대', '연대별', 'Y세대', '연...  2000y  \n",
       "2  ['국내', '락발라드', '발라드한', '2000년대', '세부장르', '100시...  2000y  \n",
       "3  ['국내', '가요', '노래방', '2000년대', '연대별', 'Y세대', '연...  2000y  \n",
       "4           ['국내', '알앤비', '연대별', '2000년대', '연대별 음악']  2000y  "
      ]
     },
     "execution_count": 10,
     "metadata": {},
     "output_type": "execute_result"
    }
   ],
   "source": [
    "sort_like.head(5)"
   ]
  },
  {
   "cell_type": "markdown",
   "id": "25de92e6",
   "metadata": {},
   "source": [
    "## 연대별 like count 기준 정렬 & 저장 과정"
   ]
  },
  {
   "cell_type": "code",
   "execution_count": 11,
   "id": "7db52162",
   "metadata": {
    "ExecuteTime": {
     "end_time": "2021-12-01T02:15:16.433586Z",
     "start_time": "2021-12-01T02:15:16.400554Z"
    }
   },
   "outputs": [
    {
     "name": "stdout",
     "output_type": "stream",
     "text": [
      "40년대 곡 개수 :  98\n"
     ]
    },
    {
     "data": {
      "text/html": [
       "<div>\n",
       "<style scoped>\n",
       "    .dataframe tbody tr th:only-of-type {\n",
       "        vertical-align: middle;\n",
       "    }\n",
       "\n",
       "    .dataframe tbody tr th {\n",
       "        vertical-align: top;\n",
       "    }\n",
       "\n",
       "    .dataframe thead th {\n",
       "        text-align: right;\n",
       "    }\n",
       "</style>\n",
       "<table border=\"1\" class=\"dataframe\">\n",
       "  <thead>\n",
       "    <tr style=\"text-align: right;\">\n",
       "      <th></th>\n",
       "      <th>song_id</th>\n",
       "      <th>song_name</th>\n",
       "      <th>artist</th>\n",
       "      <th>album</th>\n",
       "      <th>Like_Count</th>\n",
       "      <th>Lyric</th>\n",
       "      <th>cover_url</th>\n",
       "      <th>tags</th>\n",
       "      <th>year</th>\n",
       "    </tr>\n",
       "  </thead>\n",
       "  <tbody>\n",
       "    <tr>\n",
       "      <th>2063</th>\n",
       "      <td>191162</td>\n",
       "      <td>오빠는 풍각(風角)쟁이</td>\n",
       "      <td>박향림</td>\n",
       "      <td>유성기로 듣던 불멸의 명가수 - 박향림 편</td>\n",
       "      <td>1914</td>\n",
       "      <td>오빠는 풍각쟁이야 머 오빠는 심술쟁이야 머   난몰라 난몰라 내반찬 다 뺏어 먹는거...</td>\n",
       "      <td>https://image.bugsm.co.kr/album/images/200/101...</td>\n",
       "      <td>['연도별 인기가요', '올디스', '연대별', '연대별 음악']</td>\n",
       "      <td>1940y</td>\n",
       "    </tr>\n",
       "    <tr>\n",
       "      <th>2373</th>\n",
       "      <td>80078168</td>\n",
       "      <td>애수의 소야곡</td>\n",
       "      <td>남인수</td>\n",
       "      <td>남인수 골든</td>\n",
       "      <td>937</td>\n",
       "      <td>운다고 옛사랑이 오리요만은   눈물로 달래보는 구슬픈 이밤  고요히 창을 열고 별빛...</td>\n",
       "      <td>https://image.bugsm.co.kr/album/images/200/800...</td>\n",
       "      <td>['연도별 인기가요', '올디스', '연대별', '연대별 음악']</td>\n",
       "      <td>1940y</td>\n",
       "    </tr>\n",
       "  </tbody>\n",
       "</table>\n",
       "</div>"
      ],
      "text/plain": [
       "       song_id     song_name artist                    album  Like_Count  \\\n",
       "2063    191162  오빠는 풍각(風角)쟁이    박향림  유성기로 듣던 불멸의 명가수 - 박향림 편        1914   \n",
       "2373  80078168       애수의 소야곡    남인수                   남인수 골든         937   \n",
       "\n",
       "                                                  Lyric  \\\n",
       "2063  오빠는 풍각쟁이야 머 오빠는 심술쟁이야 머   난몰라 난몰라 내반찬 다 뺏어 먹는거...   \n",
       "2373  운다고 옛사랑이 오리요만은   눈물로 달래보는 구슬픈 이밤  고요히 창을 열고 별빛...   \n",
       "\n",
       "                                              cover_url  \\\n",
       "2063  https://image.bugsm.co.kr/album/images/200/101...   \n",
       "2373  https://image.bugsm.co.kr/album/images/200/800...   \n",
       "\n",
       "                                      tags   year  \n",
       "2063  ['연도별 인기가요', '올디스', '연대별', '연대별 음악']  1940y  \n",
       "2373  ['연도별 인기가요', '올디스', '연대별', '연대별 음악']  1940y  "
      ]
     },
     "execution_count": 11,
     "metadata": {},
     "output_type": "execute_result"
    }
   ],
   "source": [
    "sort_like40 = sort_like[sort_like['year']=='1940y']\n",
    "print('40년대 곡 개수 : ',len(sort_like40))\n",
    "sort_like40.head(2)\n"
   ]
  },
  {
   "cell_type": "code",
   "execution_count": 13,
   "id": "e0d225d0",
   "metadata": {
    "ExecuteTime": {
     "end_time": "2021-12-01T02:15:35.482557Z",
     "start_time": "2021-12-01T02:15:35.466563Z"
    }
   },
   "outputs": [
    {
     "name": "stdout",
     "output_type": "stream",
     "text": [
      "50년대 곡 개수 :  98\n"
     ]
    },
    {
     "data": {
      "text/html": [
       "<div>\n",
       "<style scoped>\n",
       "    .dataframe tbody tr th:only-of-type {\n",
       "        vertical-align: middle;\n",
       "    }\n",
       "\n",
       "    .dataframe tbody tr th {\n",
       "        vertical-align: top;\n",
       "    }\n",
       "\n",
       "    .dataframe thead th {\n",
       "        text-align: right;\n",
       "    }\n",
       "</style>\n",
       "<table border=\"1\" class=\"dataframe\">\n",
       "  <thead>\n",
       "    <tr style=\"text-align: right;\">\n",
       "      <th></th>\n",
       "      <th>song_id</th>\n",
       "      <th>song_name</th>\n",
       "      <th>artist</th>\n",
       "      <th>album</th>\n",
       "      <th>Like_Count</th>\n",
       "      <th>Lyric</th>\n",
       "      <th>cover_url</th>\n",
       "      <th>tags</th>\n",
       "      <th>year</th>\n",
       "    </tr>\n",
       "  </thead>\n",
       "  <tbody>\n",
       "    <tr>\n",
       "      <th>2320</th>\n",
       "      <td>80078170</td>\n",
       "      <td>추억의 소야곡</td>\n",
       "      <td>남인수</td>\n",
       "      <td>남인수 골든</td>\n",
       "      <td>1061</td>\n",
       "      <td>다시 한 번 그 얼굴이 보고 싶어라  몸부림치며 울며 떠난 사람아   저 달이 밝혀...</td>\n",
       "      <td>https://image.bugsm.co.kr/album/images/200/800...</td>\n",
       "      <td>['연도별 인기가요', '1950년대', '연대별', '국내', '연대별 음악']</td>\n",
       "      <td>1950y</td>\n",
       "    </tr>\n",
       "    <tr>\n",
       "      <th>2377</th>\n",
       "      <td>1897305</td>\n",
       "      <td>열아홉 순정</td>\n",
       "      <td>이미자</td>\n",
       "      <td>이미자 골든베스트 2</td>\n",
       "      <td>930</td>\n",
       "      <td>보기만 하여도 울렁 생각만 하여도 울렁  수줍은 열 아홉 살 움트는 첫사랑을 몰라 ...</td>\n",
       "      <td>https://image.bugsm.co.kr/album/images/200/214...</td>\n",
       "      <td>['연도별 인기가요', '1950년대', '연대별', '국내', '연대별 음악']</td>\n",
       "      <td>1950y</td>\n",
       "    </tr>\n",
       "  </tbody>\n",
       "</table>\n",
       "</div>"
      ],
      "text/plain": [
       "       song_id song_name artist        album  Like_Count  \\\n",
       "2320  80078170   추억의 소야곡    남인수       남인수 골든        1061   \n",
       "2377   1897305    열아홉 순정    이미자  이미자 골든베스트 2         930   \n",
       "\n",
       "                                                  Lyric  \\\n",
       "2320  다시 한 번 그 얼굴이 보고 싶어라  몸부림치며 울며 떠난 사람아   저 달이 밝혀...   \n",
       "2377  보기만 하여도 울렁 생각만 하여도 울렁  수줍은 열 아홉 살 움트는 첫사랑을 몰라 ...   \n",
       "\n",
       "                                              cover_url  \\\n",
       "2320  https://image.bugsm.co.kr/album/images/200/800...   \n",
       "2377  https://image.bugsm.co.kr/album/images/200/214...   \n",
       "\n",
       "                                               tags   year  \n",
       "2320  ['연도별 인기가요', '1950년대', '연대별', '국내', '연대별 음악']  1950y  \n",
       "2377  ['연도별 인기가요', '1950년대', '연대별', '국내', '연대별 음악']  1950y  "
      ]
     },
     "execution_count": 13,
     "metadata": {},
     "output_type": "execute_result"
    }
   ],
   "source": [
    "sort_like50 = sort_like[sort_like['year']=='1950y']\n",
    "print('50년대 곡 개수 : ',len(sort_like50))\n",
    "sort_like50.head(2)"
   ]
  },
  {
   "cell_type": "code",
   "execution_count": 14,
   "id": "ad9e76cd",
   "metadata": {
    "ExecuteTime": {
     "end_time": "2021-12-01T02:15:37.570856Z",
     "start_time": "2021-12-01T02:15:37.556589Z"
    }
   },
   "outputs": [
    {
     "name": "stdout",
     "output_type": "stream",
     "text": [
      "60년대 곡 개수 :  88\n"
     ]
    },
    {
     "data": {
      "text/html": [
       "<div>\n",
       "<style scoped>\n",
       "    .dataframe tbody tr th:only-of-type {\n",
       "        vertical-align: middle;\n",
       "    }\n",
       "\n",
       "    .dataframe tbody tr th {\n",
       "        vertical-align: top;\n",
       "    }\n",
       "\n",
       "    .dataframe thead th {\n",
       "        text-align: right;\n",
       "    }\n",
       "</style>\n",
       "<table border=\"1\" class=\"dataframe\">\n",
       "  <thead>\n",
       "    <tr style=\"text-align: right;\">\n",
       "      <th></th>\n",
       "      <th>song_id</th>\n",
       "      <th>song_name</th>\n",
       "      <th>artist</th>\n",
       "      <th>album</th>\n",
       "      <th>Like_Count</th>\n",
       "      <th>Lyric</th>\n",
       "      <th>cover_url</th>\n",
       "      <th>tags</th>\n",
       "      <th>year</th>\n",
       "    </tr>\n",
       "  </thead>\n",
       "  <tbody>\n",
       "    <tr>\n",
       "      <th>1838</th>\n",
       "      <td>111110</td>\n",
       "      <td>안개낀 장충단 공원</td>\n",
       "      <td>배호</td>\n",
       "      <td>불멸(不滅)의 가수(歌手) 배호(裵湖) 전곡</td>\n",
       "      <td>2966</td>\n",
       "      <td>안개 낀 장충단 공원 누구를 찾아왔나  낙엽송 고목을 말 없이 쓸어 안고 울고만 있...</td>\n",
       "      <td>https://image.bugsm.co.kr/album/images/200/157...</td>\n",
       "      <td>['연도별 인기가요', '1960년대', '연대별', '국내', '연대별 음악']</td>\n",
       "      <td>1960y</td>\n",
       "    </tr>\n",
       "    <tr>\n",
       "      <th>1927</th>\n",
       "      <td>65527</td>\n",
       "      <td>카츄샤의 노래</td>\n",
       "      <td>송민도</td>\n",
       "      <td>송민도 히트전집</td>\n",
       "      <td>2580</td>\n",
       "      <td>커피 한 잔을 시켜놓고   그대 올 때를 기다려봐도   왠일인지 오지를 않네   내...</td>\n",
       "      <td>https://image.bugsm.co.kr/album/images/200/50/...</td>\n",
       "      <td>['연도별 인기가요', '1960년대', '연대별', '국내', '연대별 음악']</td>\n",
       "      <td>1960y</td>\n",
       "    </tr>\n",
       "  </tbody>\n",
       "</table>\n",
       "</div>"
      ],
      "text/plain": [
       "      song_id   song_name artist                     album  Like_Count  \\\n",
       "1838   111110  안개낀 장충단 공원     배호  불멸(不滅)의 가수(歌手) 배호(裵湖) 전곡        2966   \n",
       "1927    65527     카츄샤의 노래    송민도                  송민도 히트전집        2580   \n",
       "\n",
       "                                                  Lyric  \\\n",
       "1838  안개 낀 장충단 공원 누구를 찾아왔나  낙엽송 고목을 말 없이 쓸어 안고 울고만 있...   \n",
       "1927  커피 한 잔을 시켜놓고   그대 올 때를 기다려봐도   왠일인지 오지를 않네   내...   \n",
       "\n",
       "                                              cover_url  \\\n",
       "1838  https://image.bugsm.co.kr/album/images/200/157...   \n",
       "1927  https://image.bugsm.co.kr/album/images/200/50/...   \n",
       "\n",
       "                                               tags   year  \n",
       "1838  ['연도별 인기가요', '1960년대', '연대별', '국내', '연대별 음악']  1960y  \n",
       "1927  ['연도별 인기가요', '1960년대', '연대별', '국내', '연대별 음악']  1960y  "
      ]
     },
     "execution_count": 14,
     "metadata": {},
     "output_type": "execute_result"
    }
   ],
   "source": [
    "sort_like60 = sort_like[sort_like['year']=='1960y']\n",
    "print('60년대 곡 개수 : ',len(sort_like60))\n",
    "sort_like60.head(2)"
   ]
  },
  {
   "cell_type": "code",
   "execution_count": 15,
   "id": "731413e8",
   "metadata": {
    "ExecuteTime": {
     "end_time": "2021-12-01T02:15:38.528970Z",
     "start_time": "2021-12-01T02:15:38.499414Z"
    }
   },
   "outputs": [
    {
     "name": "stdout",
     "output_type": "stream",
     "text": [
      "70년대 곡 개수 :  179\n"
     ]
    },
    {
     "data": {
      "text/html": [
       "<div>\n",
       "<style scoped>\n",
       "    .dataframe tbody tr th:only-of-type {\n",
       "        vertical-align: middle;\n",
       "    }\n",
       "\n",
       "    .dataframe tbody tr th {\n",
       "        vertical-align: top;\n",
       "    }\n",
       "\n",
       "    .dataframe thead th {\n",
       "        text-align: right;\n",
       "    }\n",
       "</style>\n",
       "<table border=\"1\" class=\"dataframe\">\n",
       "  <thead>\n",
       "    <tr style=\"text-align: right;\">\n",
       "      <th></th>\n",
       "      <th>song_id</th>\n",
       "      <th>song_name</th>\n",
       "      <th>artist</th>\n",
       "      <th>album</th>\n",
       "      <th>Like_Count</th>\n",
       "      <th>Lyric</th>\n",
       "      <th>cover_url</th>\n",
       "      <th>tags</th>\n",
       "      <th>year</th>\n",
       "    </tr>\n",
       "  </thead>\n",
       "  <tbody>\n",
       "    <tr>\n",
       "      <th>1226</th>\n",
       "      <td>80009878</td>\n",
       "      <td>나 어떡해</td>\n",
       "      <td>샌드 페블즈(Sand Pebbless)</td>\n",
       "      <td>대학가요제 Forever Golden Best (Best Of Best)</td>\n",
       "      <td>8394</td>\n",
       "      <td>나 어떡해 너 갑자기 가버리면   나 어떡해 너를 잃고 살아갈까   나 어떡해 나를...</td>\n",
       "      <td>https://image.bugsm.co.kr/album/images/200/800...</td>\n",
       "      <td>['국내', '7080', '1970년대', '락', '성인가요', '밴드', '그...</td>\n",
       "      <td>1970y</td>\n",
       "    </tr>\n",
       "    <tr>\n",
       "      <th>1245</th>\n",
       "      <td>1114634</td>\n",
       "      <td>하얀 나비</td>\n",
       "      <td>김정호</td>\n",
       "      <td>하얀 나비 / 인생</td>\n",
       "      <td>8163</td>\n",
       "      <td>음 생각을 말아요 지나간 일들은  음 그리워 말아요 떠나갈 님인데  꽃잎은 시들어요...</td>\n",
       "      <td>https://image.bugsm.co.kr/album/images/200/113...</td>\n",
       "      <td>['국내', '포크', '성인가요', '부모님', '통기타', '1970년대', '...</td>\n",
       "      <td>1970y</td>\n",
       "    </tr>\n",
       "  </tbody>\n",
       "</table>\n",
       "</div>"
      ],
      "text/plain": [
       "       song_id song_name                 artist  \\\n",
       "1226  80009878     나 어떡해  샌드 페블즈(Sand Pebbless)   \n",
       "1245   1114634     하얀 나비                    김정호   \n",
       "\n",
       "                                         album  Like_Count  \\\n",
       "1226  대학가요제 Forever Golden Best (Best Of Best)        8394   \n",
       "1245                                하얀 나비 / 인생        8163   \n",
       "\n",
       "                                                  Lyric  \\\n",
       "1226  나 어떡해 너 갑자기 가버리면   나 어떡해 너를 잃고 살아갈까   나 어떡해 나를...   \n",
       "1245  음 생각을 말아요 지나간 일들은  음 그리워 말아요 떠나갈 님인데  꽃잎은 시들어요...   \n",
       "\n",
       "                                              cover_url  \\\n",
       "1226  https://image.bugsm.co.kr/album/images/200/800...   \n",
       "1245  https://image.bugsm.co.kr/album/images/200/113...   \n",
       "\n",
       "                                                   tags   year  \n",
       "1226  ['국내', '7080', '1970년대', '락', '성인가요', '밴드', '그...  1970y  \n",
       "1245  ['국내', '포크', '성인가요', '부모님', '통기타', '1970년대', '...  1970y  "
      ]
     },
     "execution_count": 15,
     "metadata": {},
     "output_type": "execute_result"
    }
   ],
   "source": [
    "sort_like70 = sort_like[sort_like['year']=='1970y']\n",
    "print('70년대 곡 개수 : ',len(sort_like70))\n",
    "sort_like70.head(2)"
   ]
  },
  {
   "cell_type": "code",
   "execution_count": 16,
   "id": "525bf584",
   "metadata": {
    "ExecuteTime": {
     "end_time": "2021-12-01T02:15:40.464609Z",
     "start_time": "2021-12-01T02:15:40.437439Z"
    }
   },
   "outputs": [
    {
     "name": "stdout",
     "output_type": "stream",
     "text": [
      "80년대 곡 개수 :  339\n"
     ]
    },
    {
     "data": {
      "text/html": [
       "<div>\n",
       "<style scoped>\n",
       "    .dataframe tbody tr th:only-of-type {\n",
       "        vertical-align: middle;\n",
       "    }\n",
       "\n",
       "    .dataframe tbody tr th {\n",
       "        vertical-align: top;\n",
       "    }\n",
       "\n",
       "    .dataframe thead th {\n",
       "        text-align: right;\n",
       "    }\n",
       "</style>\n",
       "<table border=\"1\" class=\"dataframe\">\n",
       "  <thead>\n",
       "    <tr style=\"text-align: right;\">\n",
       "      <th></th>\n",
       "      <th>song_id</th>\n",
       "      <th>song_name</th>\n",
       "      <th>artist</th>\n",
       "      <th>album</th>\n",
       "      <th>Like_Count</th>\n",
       "      <th>Lyric</th>\n",
       "      <th>cover_url</th>\n",
       "      <th>tags</th>\n",
       "      <th>year</th>\n",
       "    </tr>\n",
       "  </thead>\n",
       "  <tbody>\n",
       "    <tr>\n",
       "      <th>384</th>\n",
       "      <td>47130</td>\n",
       "      <td>광화문 연가</td>\n",
       "      <td>이문세</td>\n",
       "      <td>이문세 5집</td>\n",
       "      <td>39600</td>\n",
       "      <td>이제 모두 세월따라  흔적도 없이 변하였지만  덕수궁 돌담길엔 아직 남아 있어요  ...</td>\n",
       "      <td>https://image.bugsm.co.kr/album/images/200/44/...</td>\n",
       "      <td>['국내', '발라드', '발라드한', '1980년대', '7080', '부모님',...</td>\n",
       "      <td>1980y</td>\n",
       "    </tr>\n",
       "    <tr>\n",
       "      <th>425</th>\n",
       "      <td>58150</td>\n",
       "      <td>안녕이라고 말하지마</td>\n",
       "      <td>이승철</td>\n",
       "      <td>이승철 1집 - 안녕이라고 말하지마</td>\n",
       "      <td>34909</td>\n",
       "      <td>소리내지마 우리 사랑이 날아가버려  움직이지마 우리 사랑이 약해지잖아  얘기하지마 ...</td>\n",
       "      <td>https://image.bugsm.co.kr/album/images/200/44/...</td>\n",
       "      <td>['국내', '발라드', '발라드한', '1980년대', '7080', '부모님',...</td>\n",
       "      <td>1980y</td>\n",
       "    </tr>\n",
       "  </tbody>\n",
       "</table>\n",
       "</div>"
      ],
      "text/plain": [
       "     song_id   song_name artist                album  Like_Count  \\\n",
       "384    47130      광화문 연가    이문세               이문세 5집       39600   \n",
       "425    58150  안녕이라고 말하지마    이승철  이승철 1집 - 안녕이라고 말하지마       34909   \n",
       "\n",
       "                                                 Lyric  \\\n",
       "384  이제 모두 세월따라  흔적도 없이 변하였지만  덕수궁 돌담길엔 아직 남아 있어요  ...   \n",
       "425  소리내지마 우리 사랑이 날아가버려  움직이지마 우리 사랑이 약해지잖아  얘기하지마 ...   \n",
       "\n",
       "                                             cover_url  \\\n",
       "384  https://image.bugsm.co.kr/album/images/200/44/...   \n",
       "425  https://image.bugsm.co.kr/album/images/200/44/...   \n",
       "\n",
       "                                                  tags   year  \n",
       "384  ['국내', '발라드', '발라드한', '1980년대', '7080', '부모님',...  1980y  \n",
       "425  ['국내', '발라드', '발라드한', '1980년대', '7080', '부모님',...  1980y  "
      ]
     },
     "execution_count": 16,
     "metadata": {},
     "output_type": "execute_result"
    }
   ],
   "source": [
    "sort_like80 = sort_like[sort_like['year']=='1980y']\n",
    "print('80년대 곡 개수 : ',len(sort_like80))\n",
    "sort_like80.head(2)"
   ]
  },
  {
   "cell_type": "code",
   "execution_count": 17,
   "id": "3f94f40d",
   "metadata": {
    "ExecuteTime": {
     "end_time": "2021-12-01T02:15:42.173873Z",
     "start_time": "2021-12-01T02:15:42.153734Z"
    }
   },
   "outputs": [
    {
     "name": "stdout",
     "output_type": "stream",
     "text": [
      "90년대 곡 개수 :  572\n"
     ]
    },
    {
     "data": {
      "text/html": [
       "<div>\n",
       "<style scoped>\n",
       "    .dataframe tbody tr th:only-of-type {\n",
       "        vertical-align: middle;\n",
       "    }\n",
       "\n",
       "    .dataframe tbody tr th {\n",
       "        vertical-align: top;\n",
       "    }\n",
       "\n",
       "    .dataframe thead th {\n",
       "        text-align: right;\n",
       "    }\n",
       "</style>\n",
       "<table border=\"1\" class=\"dataframe\">\n",
       "  <thead>\n",
       "    <tr style=\"text-align: right;\">\n",
       "      <th></th>\n",
       "      <th>song_id</th>\n",
       "      <th>song_name</th>\n",
       "      <th>artist</th>\n",
       "      <th>album</th>\n",
       "      <th>Like_Count</th>\n",
       "      <th>Lyric</th>\n",
       "      <th>cover_url</th>\n",
       "      <th>tags</th>\n",
       "      <th>year</th>\n",
       "    </tr>\n",
       "  </thead>\n",
       "  <tbody>\n",
       "    <tr>\n",
       "      <th>13</th>\n",
       "      <td>79964</td>\n",
       "      <td>고해</td>\n",
       "      <td>임재범</td>\n",
       "      <td>Return To The Rock</td>\n",
       "      <td>229533</td>\n",
       "      <td>어찌합니까 어떻게 할까요  감히 제가 감히 그녀를 사랑합니다  조용히 나조차 나조차...</td>\n",
       "      <td>https://image.bugsm.co.kr/album/images/200/46/...</td>\n",
       "      <td>['국내', '가요', '발라드', '추억/회상', '1990년대', '8090세대...</td>\n",
       "      <td>1990y</td>\n",
       "    </tr>\n",
       "    <tr>\n",
       "      <th>76</th>\n",
       "      <td>71992</td>\n",
       "      <td>이미 슬픈 사랑</td>\n",
       "      <td>야다(Yada)</td>\n",
       "      <td>Wear To Healing</td>\n",
       "      <td>129662</td>\n",
       "      <td>널 볼수 있어 행복했었지  그대가 날 위해 있어준 시간 만큼  너의 부모님께 전해 ...</td>\n",
       "      <td>https://image.bugsm.co.kr/album/images/200/54/...</td>\n",
       "      <td>['국내', '가요', '발라드', '추억/회상', '1990년대', '8090세대...</td>\n",
       "      <td>1990y</td>\n",
       "    </tr>\n",
       "  </tbody>\n",
       "</table>\n",
       "</div>"
      ],
      "text/plain": [
       "    song_id song_name    artist               album  Like_Count  \\\n",
       "13    79964        고해       임재범  Return To The Rock      229533   \n",
       "76    71992  이미 슬픈 사랑  야다(Yada)     Wear To Healing      129662   \n",
       "\n",
       "                                                Lyric  \\\n",
       "13  어찌합니까 어떻게 할까요  감히 제가 감히 그녀를 사랑합니다  조용히 나조차 나조차...   \n",
       "76  널 볼수 있어 행복했었지  그대가 날 위해 있어준 시간 만큼  너의 부모님께 전해 ...   \n",
       "\n",
       "                                            cover_url  \\\n",
       "13  https://image.bugsm.co.kr/album/images/200/46/...   \n",
       "76  https://image.bugsm.co.kr/album/images/200/54/...   \n",
       "\n",
       "                                                 tags   year  \n",
       "13  ['국내', '가요', '발라드', '추억/회상', '1990년대', '8090세대...  1990y  \n",
       "76  ['국내', '가요', '발라드', '추억/회상', '1990년대', '8090세대...  1990y  "
      ]
     },
     "execution_count": 17,
     "metadata": {},
     "output_type": "execute_result"
    }
   ],
   "source": [
    "sort_like90 = sort_like[sort_like['year']=='1990y']\n",
    "print('90년대 곡 개수 : ',len(sort_like90))\n",
    "sort_like90.head(2)"
   ]
  },
  {
   "cell_type": "code",
   "execution_count": 18,
   "id": "db98f835",
   "metadata": {
    "ExecuteTime": {
     "end_time": "2021-12-01T02:15:44.045482Z",
     "start_time": "2021-12-01T02:15:44.026448Z"
    }
   },
   "outputs": [
    {
     "name": "stdout",
     "output_type": "stream",
     "text": [
      "2000년대 곡 개수 :  1028\n"
     ]
    },
    {
     "data": {
      "text/html": [
       "<div>\n",
       "<style scoped>\n",
       "    .dataframe tbody tr th:only-of-type {\n",
       "        vertical-align: middle;\n",
       "    }\n",
       "\n",
       "    .dataframe tbody tr th {\n",
       "        vertical-align: top;\n",
       "    }\n",
       "\n",
       "    .dataframe thead th {\n",
       "        text-align: right;\n",
       "    }\n",
       "</style>\n",
       "<table border=\"1\" class=\"dataframe\">\n",
       "  <thead>\n",
       "    <tr style=\"text-align: right;\">\n",
       "      <th></th>\n",
       "      <th>song_id</th>\n",
       "      <th>song_name</th>\n",
       "      <th>artist</th>\n",
       "      <th>album</th>\n",
       "      <th>Like_Count</th>\n",
       "      <th>Lyric</th>\n",
       "      <th>cover_url</th>\n",
       "      <th>tags</th>\n",
       "      <th>year</th>\n",
       "    </tr>\n",
       "  </thead>\n",
       "  <tbody>\n",
       "    <tr>\n",
       "      <th>0</th>\n",
       "      <td>418253</td>\n",
       "      <td>보고 싶다</td>\n",
       "      <td>김범수</td>\n",
       "      <td>3rd. 보고 싶다</td>\n",
       "      <td>342238</td>\n",
       "      <td>아무리 기다려도 난 못가   바보처럼 울고 있는 너의 곁에  상처만 주는 나를 왜 ...</td>\n",
       "      <td>https://image.bugsm.co.kr/album/images/200/262...</td>\n",
       "      <td>['국내', '가요', '노래방', '2000년대', '연대별', 'Y세대', '연...</td>\n",
       "      <td>2000y</td>\n",
       "    </tr>\n",
       "    <tr>\n",
       "      <th>1</th>\n",
       "      <td>445413</td>\n",
       "      <td>사랑합니다...</td>\n",
       "      <td>팀</td>\n",
       "      <td>Tim 영민</td>\n",
       "      <td>332812</td>\n",
       "      <td>나빠요 참 그대란 사람   허락도 없이 왜 내 맘 가져요   그대 때문에 난 힘겹게...</td>\n",
       "      <td>https://image.bugsm.co.kr/album/images/200/307...</td>\n",
       "      <td>['국내', '가요', '노래방', '2000년대', '연대별', 'Y세대', '연...</td>\n",
       "      <td>2000y</td>\n",
       "    </tr>\n",
       "  </tbody>\n",
       "</table>\n",
       "</div>"
      ],
      "text/plain": [
       "   song_id song_name artist       album  Like_Count  \\\n",
       "0   418253     보고 싶다    김범수  3rd. 보고 싶다      342238   \n",
       "1   445413  사랑합니다...      팀      Tim 영민      332812   \n",
       "\n",
       "                                               Lyric  \\\n",
       "0  아무리 기다려도 난 못가   바보처럼 울고 있는 너의 곁에  상처만 주는 나를 왜 ...   \n",
       "1  나빠요 참 그대란 사람   허락도 없이 왜 내 맘 가져요   그대 때문에 난 힘겹게...   \n",
       "\n",
       "                                           cover_url  \\\n",
       "0  https://image.bugsm.co.kr/album/images/200/262...   \n",
       "1  https://image.bugsm.co.kr/album/images/200/307...   \n",
       "\n",
       "                                                tags   year  \n",
       "0  ['국내', '가요', '노래방', '2000년대', '연대별', 'Y세대', '연...  2000y  \n",
       "1  ['국내', '가요', '노래방', '2000년대', '연대별', 'Y세대', '연...  2000y  "
      ]
     },
     "execution_count": 18,
     "metadata": {},
     "output_type": "execute_result"
    }
   ],
   "source": [
    "sort_like20 = sort_like[sort_like['year']=='2000y']\n",
    "print('2000년대 곡 개수 : ',len(sort_like20))\n",
    "sort_like20.head(2)"
   ]
  },
  {
   "cell_type": "code",
   "execution_count": 19,
   "id": "dfe3d0f5",
   "metadata": {
    "ExecuteTime": {
     "end_time": "2021-12-01T02:15:45.846585Z",
     "start_time": "2021-12-01T02:15:45.818504Z"
    }
   },
   "outputs": [
    {
     "name": "stdout",
     "output_type": "stream",
     "text": [
      "2010년대 곡 개수 :  906\n"
     ]
    },
    {
     "data": {
      "text/html": [
       "<div>\n",
       "<style scoped>\n",
       "    .dataframe tbody tr th:only-of-type {\n",
       "        vertical-align: middle;\n",
       "    }\n",
       "\n",
       "    .dataframe tbody tr th {\n",
       "        vertical-align: top;\n",
       "    }\n",
       "\n",
       "    .dataframe thead th {\n",
       "        text-align: right;\n",
       "    }\n",
       "</style>\n",
       "<table border=\"1\" class=\"dataframe\">\n",
       "  <thead>\n",
       "    <tr style=\"text-align: right;\">\n",
       "      <th></th>\n",
       "      <th>song_id</th>\n",
       "      <th>song_name</th>\n",
       "      <th>artist</th>\n",
       "      <th>album</th>\n",
       "      <th>Like_Count</th>\n",
       "      <th>Lyric</th>\n",
       "      <th>cover_url</th>\n",
       "      <th>tags</th>\n",
       "      <th>year</th>\n",
       "    </tr>\n",
       "  </thead>\n",
       "  <tbody>\n",
       "    <tr>\n",
       "      <th>33</th>\n",
       "      <td>1902268</td>\n",
       "      <td>죽어도 못 보내</td>\n",
       "      <td>2am</td>\n",
       "      <td>죽어도 못 보내</td>\n",
       "      <td>179984</td>\n",
       "      <td>어려도 아픈건 똑같아  세상을 잘 모른다고 아픈걸 모르진 않아    괜찮아 질 거라...</td>\n",
       "      <td>https://image.bugsm.co.kr/album/images/200/215...</td>\n",
       "      <td>['국내', '가요', '발라드', '100시리즈', '발라드한', '연대별', '...</td>\n",
       "      <td>2010y</td>\n",
       "    </tr>\n",
       "    <tr>\n",
       "      <th>44</th>\n",
       "      <td>1898221</td>\n",
       "      <td>외톨이야</td>\n",
       "      <td>씨엔블루(CNBLUE)</td>\n",
       "      <td>Bluetory</td>\n",
       "      <td>165137</td>\n",
       "      <td>외톨이야 외톨이야 외톨이야 외톨이야    봐 봐 나를 봐 봐  똑바로 내 두눈을 봐...</td>\n",
       "      <td>https://image.bugsm.co.kr/album/images/200/215...</td>\n",
       "      <td>['국내', '가요', '아이돌', 'KPOP', '연대별', '2010년대', '...</td>\n",
       "      <td>2010y</td>\n",
       "    </tr>\n",
       "  </tbody>\n",
       "</table>\n",
       "</div>"
      ],
      "text/plain": [
       "    song_id song_name        artist     album  Like_Count  \\\n",
       "33  1902268  죽어도 못 보내           2am  죽어도 못 보내      179984   \n",
       "44  1898221      외톨이야  씨엔블루(CNBLUE)  Bluetory      165137   \n",
       "\n",
       "                                                Lyric  \\\n",
       "33  어려도 아픈건 똑같아  세상을 잘 모른다고 아픈걸 모르진 않아    괜찮아 질 거라...   \n",
       "44  외톨이야 외톨이야 외톨이야 외톨이야    봐 봐 나를 봐 봐  똑바로 내 두눈을 봐...   \n",
       "\n",
       "                                            cover_url  \\\n",
       "33  https://image.bugsm.co.kr/album/images/200/215...   \n",
       "44  https://image.bugsm.co.kr/album/images/200/215...   \n",
       "\n",
       "                                                 tags   year  \n",
       "33  ['국내', '가요', '발라드', '100시리즈', '발라드한', '연대별', '...  2010y  \n",
       "44  ['국내', '가요', '아이돌', 'KPOP', '연대별', '2010년대', '...  2010y  "
      ]
     },
     "execution_count": 19,
     "metadata": {},
     "output_type": "execute_result"
    }
   ],
   "source": [
    "sort_like2010 = sort_like[sort_like['year']=='2010y']\n",
    "print('2010년대 곡 개수 : ',len(sort_like2010))\n",
    "sort_like2010.head(2)"
   ]
  },
  {
   "cell_type": "code",
   "execution_count": 20,
   "id": "37d15a1d",
   "metadata": {
    "ExecuteTime": {
     "end_time": "2021-12-01T02:15:50.037095Z",
     "start_time": "2021-12-01T02:15:50.023130Z"
    }
   },
   "outputs": [
    {
     "data": {
      "text/html": [
       "<div>\n",
       "<style scoped>\n",
       "    .dataframe tbody tr th:only-of-type {\n",
       "        vertical-align: middle;\n",
       "    }\n",
       "\n",
       "    .dataframe tbody tr th {\n",
       "        vertical-align: top;\n",
       "    }\n",
       "\n",
       "    .dataframe thead th {\n",
       "        text-align: right;\n",
       "    }\n",
       "</style>\n",
       "<table border=\"1\" class=\"dataframe\">\n",
       "  <thead>\n",
       "    <tr style=\"text-align: right;\">\n",
       "      <th></th>\n",
       "      <th>song_id</th>\n",
       "      <th>song_name</th>\n",
       "      <th>artist</th>\n",
       "      <th>album</th>\n",
       "      <th>Like_Count</th>\n",
       "      <th>Lyric</th>\n",
       "      <th>cover_url</th>\n",
       "      <th>tags</th>\n",
       "      <th>year</th>\n",
       "    </tr>\n",
       "  </thead>\n",
       "  <tbody>\n",
       "    <tr>\n",
       "      <th>3293</th>\n",
       "      <td>30667625</td>\n",
       "      <td>곱사무舞</td>\n",
       "      <td>김두수</td>\n",
       "      <td>6집 곱사무舞</td>\n",
       "      <td>3</td>\n",
       "      <td>황토에 꿈을 잃고 서있는 사람 장강에 몸을 씻고 더 큰 세상을 보아야지  망향의 교...</td>\n",
       "      <td>https://image.bugsm.co.kr/album/images/200/200...</td>\n",
       "      <td>['국내', '포크', '포크/어쿠스틱', '100시리즈', '2010년대', '연...</td>\n",
       "      <td>2010y</td>\n",
       "    </tr>\n",
       "    <tr>\n",
       "      <th>3300</th>\n",
       "      <td>30924167</td>\n",
       "      <td>4인 가족</td>\n",
       "      <td>김동산</td>\n",
       "      <td>서울·수원 이야기</td>\n",
       "      <td>2</td>\n",
       "      <td>계고장을 받은 첫날은 캄캄했지  하루 정도 아무 생각이 없었어  맘상모 회원들의 강...</td>\n",
       "      <td>https://image.bugsm.co.kr/album/images/200/201...</td>\n",
       "      <td>['국내', '포크', '포크/어쿠스틱', '100시리즈', '2010년대', '연...</td>\n",
       "      <td>2010y</td>\n",
       "    </tr>\n",
       "  </tbody>\n",
       "</table>\n",
       "</div>"
      ],
      "text/plain": [
       "       song_id song_name artist      album  Like_Count  \\\n",
       "3293  30667625      곱사무舞    김두수    6집 곱사무舞           3   \n",
       "3300  30924167     4인 가족    김동산  서울·수원 이야기           2   \n",
       "\n",
       "                                                  Lyric  \\\n",
       "3293  황토에 꿈을 잃고 서있는 사람 장강에 몸을 씻고 더 큰 세상을 보아야지  망향의 교...   \n",
       "3300  계고장을 받은 첫날은 캄캄했지  하루 정도 아무 생각이 없었어  맘상모 회원들의 강...   \n",
       "\n",
       "                                              cover_url  \\\n",
       "3293  https://image.bugsm.co.kr/album/images/200/200...   \n",
       "3300  https://image.bugsm.co.kr/album/images/200/201...   \n",
       "\n",
       "                                                   tags   year  \n",
       "3293  ['국내', '포크', '포크/어쿠스틱', '100시리즈', '2010년대', '연...  2010y  \n",
       "3300  ['국내', '포크', '포크/어쿠스틱', '100시리즈', '2010년대', '연...  2010y  "
      ]
     },
     "execution_count": 20,
     "metadata": {},
     "output_type": "execute_result"
    }
   ],
   "source": [
    "sort_like2010.tail(2)"
   ]
  },
  {
   "cell_type": "markdown",
   "id": "5a5ba3b7",
   "metadata": {},
   "source": [
    "### append()"
   ]
  },
  {
   "cell_type": "code",
   "execution_count": 191,
   "id": "eee1005a",
   "metadata": {
    "ExecuteTime": {
     "end_time": "2021-11-29T08:50:20.361622Z",
     "start_time": "2021-11-29T08:50:20.336537Z"
    }
   },
   "outputs": [],
   "source": [
    "sort_total_years = sort_total_years.append(sort_like2010)"
   ]
  },
  {
   "cell_type": "markdown",
   "id": "3af71e18",
   "metadata": {},
   "source": [
    "### to_csv"
   ]
  },
  {
   "cell_type": "code",
   "execution_count": 192,
   "id": "6da56733",
   "metadata": {
    "ExecuteTime": {
     "end_time": "2021-11-29T08:50:57.293789Z",
     "start_time": "2021-11-29T08:50:57.095758Z"
    }
   },
   "outputs": [],
   "source": [
    "sort_total_years.to_csv('sort_total_years.csv',index=False)"
   ]
  },
  {
   "cell_type": "markdown",
   "id": "b40d4a3a",
   "metadata": {},
   "source": [
    "### 결과 확인"
   ]
  },
  {
   "cell_type": "code",
   "execution_count": 24,
   "id": "c4f6c4c5",
   "metadata": {
    "ExecuteTime": {
     "end_time": "2021-12-01T02:17:39.110443Z",
     "start_time": "2021-12-01T02:17:38.987443Z"
    }
   },
   "outputs": [
    {
     "data": {
      "text/html": [
       "<div>\n",
       "<style scoped>\n",
       "    .dataframe tbody tr th:only-of-type {\n",
       "        vertical-align: middle;\n",
       "    }\n",
       "\n",
       "    .dataframe tbody tr th {\n",
       "        vertical-align: top;\n",
       "    }\n",
       "\n",
       "    .dataframe thead th {\n",
       "        text-align: right;\n",
       "    }\n",
       "</style>\n",
       "<table border=\"1\" class=\"dataframe\">\n",
       "  <thead>\n",
       "    <tr style=\"text-align: right;\">\n",
       "      <th></th>\n",
       "      <th>song_id</th>\n",
       "      <th>song_name</th>\n",
       "      <th>artist</th>\n",
       "      <th>album</th>\n",
       "      <th>Like_Count</th>\n",
       "      <th>Lyric</th>\n",
       "      <th>cover_url</th>\n",
       "      <th>tags</th>\n",
       "      <th>year</th>\n",
       "    </tr>\n",
       "  </thead>\n",
       "  <tbody>\n",
       "    <tr>\n",
       "      <th>2402</th>\n",
       "      <td>1902268</td>\n",
       "      <td>죽어도 못 보내</td>\n",
       "      <td>2am</td>\n",
       "      <td>죽어도 못 보내</td>\n",
       "      <td>179984</td>\n",
       "      <td>어려도 아픈건 똑같아  세상을 잘 모른다고 아픈걸 모르진 않아    괜찮아 질 거라...</td>\n",
       "      <td>https://image.bugsm.co.kr/album/images/200/215...</td>\n",
       "      <td>['국내', '가요', '발라드', '100시리즈', '발라드한', '연대별', '...</td>\n",
       "      <td>2010y</td>\n",
       "    </tr>\n",
       "    <tr>\n",
       "      <th>2403</th>\n",
       "      <td>1898221</td>\n",
       "      <td>외톨이야</td>\n",
       "      <td>씨엔블루(CNBLUE)</td>\n",
       "      <td>Bluetory</td>\n",
       "      <td>165137</td>\n",
       "      <td>외톨이야 외톨이야 외톨이야 외톨이야    봐 봐 나를 봐 봐  똑바로 내 두눈을 봐...</td>\n",
       "      <td>https://image.bugsm.co.kr/album/images/200/215...</td>\n",
       "      <td>['국내', '가요', '아이돌', 'KPOP', '연대별', '2010년대', '...</td>\n",
       "      <td>2010y</td>\n",
       "    </tr>\n",
       "    <tr>\n",
       "      <th>2404</th>\n",
       "      <td>1904254</td>\n",
       "      <td>Oh!</td>\n",
       "      <td>소녀시대 (GIRLS' GENERATION)</td>\n",
       "      <td>'Oh!' - The Second Album</td>\n",
       "      <td>163249</td>\n",
       "      <td>전에 알던 내가 아냐     새로워진 나와 함께              오빠 오빠 ...</td>\n",
       "      <td>https://image.bugsm.co.kr/album/images/200/215...</td>\n",
       "      <td>['국내', '가요', '아이돌', 'KPOP', '연대별', '2010년대', '...</td>\n",
       "      <td>2010y</td>\n",
       "    </tr>\n",
       "    <tr>\n",
       "      <th>2405</th>\n",
       "      <td>1934977</td>\n",
       "      <td>루팡 (Lupin)</td>\n",
       "      <td>카라(Kara)</td>\n",
       "      <td>루팡 (Lupin)</td>\n",
       "      <td>156173</td>\n",
       "      <td>겁먹지마 니 심장소리가 들켜 쉿  뒤에 서서 침착하게 지켜봐봐  탐난다고 서두르단 ...</td>\n",
       "      <td>https://image.bugsm.co.kr/album/images/200/217...</td>\n",
       "      <td>['국내', '가요', '아이돌', 'KPOP', '연대별', '2010년대', '...</td>\n",
       "      <td>2010y</td>\n",
       "    </tr>\n",
       "    <tr>\n",
       "      <th>2406</th>\n",
       "      <td>1937625</td>\n",
       "      <td>너 때문에 미쳐</td>\n",
       "      <td>티아라(T-ara)</td>\n",
       "      <td>Breaking Heart [Repackage]</td>\n",
       "      <td>152149</td>\n",
       "      <td>봐도 봐도 봐도 내가 봐도 봐도 보고싶어  너 땜에 온종일 미쳐 내 영혼 마저 미쳐...</td>\n",
       "      <td>https://image.bugsm.co.kr/album/images/200/217...</td>\n",
       "      <td>['가요', '국내', '아이돌', '2010년대', '댄스', '걸그룹', '여자...</td>\n",
       "      <td>2010y</td>\n",
       "    </tr>\n",
       "  </tbody>\n",
       "</table>\n",
       "</div>"
      ],
      "text/plain": [
       "      song_id   song_name                    artist  \\\n",
       "2402  1902268    죽어도 못 보내                       2am   \n",
       "2403  1898221        외톨이야              씨엔블루(CNBLUE)   \n",
       "2404  1904254         Oh!  소녀시대 (GIRLS' GENERATION)   \n",
       "2405  1934977  루팡 (Lupin)                  카라(Kara)   \n",
       "2406  1937625    너 때문에 미쳐                티아라(T-ara)   \n",
       "\n",
       "                           album  Like_Count  \\\n",
       "2402                    죽어도 못 보내      179984   \n",
       "2403                    Bluetory      165137   \n",
       "2404    'Oh!' - The Second Album      163249   \n",
       "2405                  루팡 (Lupin)      156173   \n",
       "2406  Breaking Heart [Repackage]      152149   \n",
       "\n",
       "                                                  Lyric  \\\n",
       "2402  어려도 아픈건 똑같아  세상을 잘 모른다고 아픈걸 모르진 않아    괜찮아 질 거라...   \n",
       "2403  외톨이야 외톨이야 외톨이야 외톨이야    봐 봐 나를 봐 봐  똑바로 내 두눈을 봐...   \n",
       "2404  전에 알던 내가 아냐     새로워진 나와 함께              오빠 오빠 ...   \n",
       "2405  겁먹지마 니 심장소리가 들켜 쉿  뒤에 서서 침착하게 지켜봐봐  탐난다고 서두르단 ...   \n",
       "2406  봐도 봐도 봐도 내가 봐도 봐도 보고싶어  너 땜에 온종일 미쳐 내 영혼 마저 미쳐...   \n",
       "\n",
       "                                              cover_url  \\\n",
       "2402  https://image.bugsm.co.kr/album/images/200/215...   \n",
       "2403  https://image.bugsm.co.kr/album/images/200/215...   \n",
       "2404  https://image.bugsm.co.kr/album/images/200/215...   \n",
       "2405  https://image.bugsm.co.kr/album/images/200/217...   \n",
       "2406  https://image.bugsm.co.kr/album/images/200/217...   \n",
       "\n",
       "                                                   tags   year  \n",
       "2402  ['국내', '가요', '발라드', '100시리즈', '발라드한', '연대별', '...  2010y  \n",
       "2403  ['국내', '가요', '아이돌', 'KPOP', '연대별', '2010년대', '...  2010y  \n",
       "2404  ['국내', '가요', '아이돌', 'KPOP', '연대별', '2010년대', '...  2010y  \n",
       "2405  ['국내', '가요', '아이돌', 'KPOP', '연대별', '2010년대', '...  2010y  \n",
       "2406  ['가요', '국내', '아이돌', '2010년대', '댄스', '걸그룹', '여자...  2010y  "
      ]
     },
     "execution_count": 24,
     "metadata": {},
     "output_type": "execute_result"
    }
   ],
   "source": [
    "sort_total_years = pd.read_csv('sort_total_years.csv')\n",
    "# 2010년대 곡\n",
    "sort_total_years[sort_total_years['year'].str.contains('2010y')].head(5)"
   ]
  },
  {
   "cell_type": "markdown",
   "id": "318abf02",
   "metadata": {},
   "source": [
    "---"
   ]
  },
  {
   "cell_type": "markdown",
   "id": "5c8c225a",
   "metadata": {},
   "source": [
    "## (나름) 최신 트렌드 주요 키워드 추출\n",
    "* 1990 / 2000 / 2010\n",
    "* 2020년도랑 2021년도는 크롤링 해서 추가적으로 업로드하겠습니다!! (+like count 정렬 목록 데이터도!)"
   ]
  },
  {
   "cell_type": "markdown",
   "id": "2a64e012",
   "metadata": {},
   "source": [
    "## 1990 년대"
   ]
  },
  {
   "cell_type": "code",
   "execution_count": 46,
   "id": "3b8861ed",
   "metadata": {
    "ExecuteTime": {
     "end_time": "2021-12-01T03:00:50.253075Z",
     "start_time": "2021-12-01T03:00:50.242070Z"
    }
   },
   "outputs": [
    {
     "data": {
      "text/html": [
       "<div>\n",
       "<style scoped>\n",
       "    .dataframe tbody tr th:only-of-type {\n",
       "        vertical-align: middle;\n",
       "    }\n",
       "\n",
       "    .dataframe tbody tr th {\n",
       "        vertical-align: top;\n",
       "    }\n",
       "\n",
       "    .dataframe thead th {\n",
       "        text-align: right;\n",
       "    }\n",
       "</style>\n",
       "<table border=\"1\" class=\"dataframe\">\n",
       "  <thead>\n",
       "    <tr style=\"text-align: right;\">\n",
       "      <th></th>\n",
       "      <th>song_id</th>\n",
       "      <th>song_name</th>\n",
       "      <th>artist</th>\n",
       "      <th>album</th>\n",
       "      <th>Like_Count</th>\n",
       "      <th>Lyric</th>\n",
       "      <th>cover_url</th>\n",
       "      <th>tags</th>\n",
       "      <th>year</th>\n",
       "    </tr>\n",
       "  </thead>\n",
       "  <tbody>\n",
       "    <tr>\n",
       "      <th>13</th>\n",
       "      <td>79964</td>\n",
       "      <td>고해</td>\n",
       "      <td>임재범</td>\n",
       "      <td>Return To The Rock</td>\n",
       "      <td>229533</td>\n",
       "      <td>어찌합니까 어떻게 할까요  감히 제가 감히 그녀를 사랑합니다  조용히 나조차 나조차...</td>\n",
       "      <td>https://image.bugsm.co.kr/album/images/200/46/...</td>\n",
       "      <td>['국내', '가요', '발라드', '추억/회상', '1990년대', '8090세대...</td>\n",
       "      <td>1990y</td>\n",
       "    </tr>\n",
       "    <tr>\n",
       "      <th>76</th>\n",
       "      <td>71992</td>\n",
       "      <td>이미 슬픈 사랑</td>\n",
       "      <td>야다(Yada)</td>\n",
       "      <td>Wear To Healing</td>\n",
       "      <td>129662</td>\n",
       "      <td>널 볼수 있어 행복했었지  그대가 날 위해 있어준 시간 만큼  너의 부모님께 전해 ...</td>\n",
       "      <td>https://image.bugsm.co.kr/album/images/200/54/...</td>\n",
       "      <td>['국내', '가요', '발라드', '추억/회상', '1990년대', '8090세대...</td>\n",
       "      <td>1990y</td>\n",
       "    </tr>\n",
       "  </tbody>\n",
       "</table>\n",
       "</div>"
      ],
      "text/plain": [
       "    song_id song_name    artist               album  Like_Count  \\\n",
       "13    79964        고해       임재범  Return To The Rock      229533   \n",
       "76    71992  이미 슬픈 사랑  야다(Yada)     Wear To Healing      129662   \n",
       "\n",
       "                                                Lyric  \\\n",
       "13  어찌합니까 어떻게 할까요  감히 제가 감히 그녀를 사랑합니다  조용히 나조차 나조차...   \n",
       "76  널 볼수 있어 행복했었지  그대가 날 위해 있어준 시간 만큼  너의 부모님께 전해 ...   \n",
       "\n",
       "                                            cover_url  \\\n",
       "13  https://image.bugsm.co.kr/album/images/200/46/...   \n",
       "76  https://image.bugsm.co.kr/album/images/200/54/...   \n",
       "\n",
       "                                                 tags   year  \n",
       "13  ['국내', '가요', '발라드', '추억/회상', '1990년대', '8090세대...  1990y  \n",
       "76  ['국내', '가요', '발라드', '추억/회상', '1990년대', '8090세대...  1990y  "
      ]
     },
     "execution_count": 46,
     "metadata": {},
     "output_type": "execute_result"
    }
   ],
   "source": [
    "# like count 정렬 맞는지 다시 확인\n",
    "sort_like90.head(2)"
   ]
  },
  {
   "cell_type": "markdown",
   "id": "545aa282",
   "metadata": {},
   "source": [
    "### 불용어"
   ]
  },
  {
   "cell_type": "code",
   "execution_count": 31,
   "id": "44e56007",
   "metadata": {
    "ExecuteTime": {
     "end_time": "2021-12-01T02:30:07.376399Z",
     "start_time": "2021-12-01T02:30:07.365296Z"
    }
   },
   "outputs": [],
   "source": [
    " # 불용어 (가사 빈도수 높은 + 감정분류와 무관한 단어 추가 중)\n",
    "stop_w = ['all','이렇게','네가','있는','니가','없는','너의','너무','그런',\n",
    "          'oh','whoo','tuesday','내가','너를','나를','we','this','the','그렇게',\n",
    "          'so','am','baby','and','can','you','much','me','for','go','in',\n",
    "          '은', '는', '이', '가', '하','부터','처럼','까지',\n",
    "          'know','no','of','let','my','수','너','내','나','그','난','봐',\n",
    "          '돼','건','모든','에서','에게','싶어','잖아',\n",
    "          '날','널','수','것','못','말','넌','젠','하나','정말','알','여기',\n",
    "          '우리','다시','하게','니까',\n",
    "          '때','아','더','게','또','채','일','걸','누구','나는','너는','라면',\n",
    "          '같아','있어',\n",
    "          '의','가','보','들','좀','잘','걍','과','도','를','으로','우린','하지',\n",
    "          '해도','하고','없어','않아',\n",
    "          '자','에','와','한','하다','네','있다','나의','해','다','내게','왜',\n",
    "          '거야','이제','그냥','했던','하는']"
   ]
  },
  {
   "cell_type": "code",
   "execution_count": 27,
   "id": "ec159c52",
   "metadata": {
    "ExecuteTime": {
     "end_time": "2021-12-01T02:27:28.369539Z",
     "start_time": "2021-12-01T02:27:28.366538Z"
    }
   },
   "outputs": [],
   "source": [
    "lyric90 = sort_like90.Lyric"
   ]
  },
  {
   "cell_type": "markdown",
   "id": "f54579ce",
   "metadata": {},
   "source": [
    "### 토큰화"
   ]
  },
  {
   "cell_type": "code",
   "execution_count": 70,
   "id": "de5d3560",
   "metadata": {
    "ExecuteTime": {
     "end_time": "2021-12-01T03:09:29.508433Z",
     "start_time": "2021-12-01T03:09:17.151700Z"
    }
   },
   "outputs": [],
   "source": [
    "tagging_okt = []\n",
    "for i in lyric90:\n",
    "    tag_word = okt.pos(i)\n",
    "    tagging_okt.append(tag_word)"
   ]
  },
  {
   "cell_type": "markdown",
   "id": "e2f11480",
   "metadata": {
    "ExecuteTime": {
     "end_time": "2021-12-01T02:50:05.079769Z",
     "start_time": "2021-12-01T02:50:05.068585Z"
    }
   },
   "source": [
    "### 말뭉치 담기 (형용사, 명사, 동사)\n",
    "* okt를 사용한 이유를 설명할 수 있을 듯 (명사, 형용사 등 morphs의 명확한 분리 후 원하는 형태소만 따로 담을 수 있다는 이점)\n",
    "* sentencepiece에서는 형태소별로 구분 X"
   ]
  },
  {
   "cell_type": "code",
   "execution_count": 71,
   "id": "911044af",
   "metadata": {
    "ExecuteTime": {
     "end_time": "2021-12-01T03:09:29.953607Z",
     "start_time": "2021-12-01T03:09:29.909100Z"
    }
   },
   "outputs": [],
   "source": [
    "corpus = []\n",
    "for song in tagging_okt:\n",
    "    for word in song:\n",
    "        if (word[1] == 'Adjective') or (word[1] =='Noun') or (word[1] =='Verb'):\n",
    "            corpus.append(word[0])"
   ]
  },
  {
   "cell_type": "markdown",
   "id": "d31541a2",
   "metadata": {},
   "source": [
    "### 딕셔너리 생성 (단어, 빈도수 count)"
   ]
  },
  {
   "cell_type": "code",
   "execution_count": 72,
   "id": "5ddf932f",
   "metadata": {
    "ExecuteTime": {
     "end_time": "2021-12-01T03:09:30.368390Z",
     "start_time": "2021-12-01T03:09:30.324117Z"
    }
   },
   "outputs": [],
   "source": [
    "word_dict = {}\n",
    "for i in corpus:\n",
    "    if i in word_dict:\n",
    "        word_dict[i] += 1\n",
    "    else: \n",
    "        word_dict[i] = 1\n",
    "        \n",
    "# print(word_dict)"
   ]
  },
  {
   "cell_type": "markdown",
   "id": "305fd273",
   "metadata": {},
   "source": [
    "## CountVectorizer"
   ]
  },
  {
   "cell_type": "code",
   "execution_count": null,
   "id": "084e5194",
   "metadata": {},
   "outputs": [],
   "source": [
    "#max_features는 corpus중 빈도수가 가장 높은 순으로 해당 개수만큼만 뽑아냄 "
   ]
  },
  {
   "cell_type": "code",
   "execution_count": 73,
   "id": "c4f3e0bd",
   "metadata": {
    "ExecuteTime": {
     "end_time": "2021-12-01T03:09:30.975871Z",
     "start_time": "2021-12-01T03:09:30.722355Z"
    }
   },
   "outputs": [],
   "source": [
    "cv = CountVectorizer(max_features=5000, stop_words=stop_w) \n",
    "tdm = cv.fit_transform(corpus)"
   ]
  },
  {
   "cell_type": "code",
   "execution_count": 75,
   "id": "56896f99",
   "metadata": {
    "ExecuteTime": {
     "end_time": "2021-12-01T03:10:24.476298Z",
     "start_time": "2021-12-01T03:10:24.458302Z"
    }
   },
   "outputs": [
    {
     "name": "stdout",
     "output_type": "stream",
     "text": [
      "(76096, 5000)\n",
      "5000\n"
     ]
    }
   ],
   "source": [
    "# tdm.shape\n",
    "# len(cv.get_feature_names())\n",
    "print(tdm.shape)\n",
    "print(len(cv.get_feature_names()))"
   ]
  },
  {
   "cell_type": "code",
   "execution_count": 76,
   "id": "be10c3ff",
   "metadata": {
    "ExecuteTime": {
     "end_time": "2021-12-01T03:10:25.493798Z",
     "start_time": "2021-12-01T03:10:25.474625Z"
    }
   },
   "outputs": [
    {
     "data": {
      "text/plain": [
       "['가게', '가겠죠', '가겠지', '가고', '가고있어', '가까운', '가까이', '가깝게', '가끔', '가나']"
      ]
     },
     "execution_count": 76,
     "metadata": {},
     "output_type": "execute_result"
    }
   ],
   "source": [
    "cv.get_feature_names()[:10]"
   ]
  },
  {
   "cell_type": "markdown",
   "id": "1a5f3491",
   "metadata": {},
   "source": [
    "* 원래 사랑, 그대, 지금 이라는 단어를 분석에서 제외시켰었는데, <br> 해당 단어를 통해 맥락을 이해하고 노래의 분위기를 파악하는데 도움이 되는 단어라고 판단되어 불용어에서 제거했습니다.<br>\n",
    "혹시 다른 의견이나 아이디어가 있다면 말씀해주세요!!! (불용어에서 추가하거나 삭제가 필요한 단어 등) "
   ]
  },
  {
   "cell_type": "code",
   "execution_count": 77,
   "id": "82218c19",
   "metadata": {
    "ExecuteTime": {
     "end_time": "2021-12-01T03:10:26.790152Z",
     "start_time": "2021-12-01T03:10:26.767155Z"
    }
   },
   "outputs": [
    {
     "data": {
      "text/html": [
       "<div>\n",
       "<style scoped>\n",
       "    .dataframe tbody tr th:only-of-type {\n",
       "        vertical-align: middle;\n",
       "    }\n",
       "\n",
       "    .dataframe tbody tr th {\n",
       "        vertical-align: top;\n",
       "    }\n",
       "\n",
       "    .dataframe thead th {\n",
       "        text-align: right;\n",
       "    }\n",
       "</style>\n",
       "<table border=\"1\" class=\"dataframe\">\n",
       "  <thead>\n",
       "    <tr style=\"text-align: right;\">\n",
       "      <th></th>\n",
       "      <th>단어</th>\n",
       "      <th>빈도</th>\n",
       "    </tr>\n",
       "  </thead>\n",
       "  <tbody>\n",
       "    <tr>\n",
       "      <th>2354</th>\n",
       "      <td>사랑</td>\n",
       "      <td>1417</td>\n",
       "    </tr>\n",
       "    <tr>\n",
       "      <th>366</th>\n",
       "      <td>그대</td>\n",
       "      <td>756</td>\n",
       "    </tr>\n",
       "    <tr>\n",
       "      <th>1446</th>\n",
       "      <td>마음</td>\n",
       "      <td>437</td>\n",
       "    </tr>\n",
       "    <tr>\n",
       "      <th>1673</th>\n",
       "      <td>모두</td>\n",
       "      <td>374</td>\n",
       "    </tr>\n",
       "    <tr>\n",
       "      <th>2508</th>\n",
       "      <td>세상</td>\n",
       "      <td>373</td>\n",
       "    </tr>\n",
       "    <tr>\n",
       "      <th>1694</th>\n",
       "      <td>모습</td>\n",
       "      <td>327</td>\n",
       "    </tr>\n",
       "    <tr>\n",
       "      <th>4095</th>\n",
       "      <td>지금</td>\n",
       "      <td>313</td>\n",
       "    </tr>\n",
       "    <tr>\n",
       "      <th>2440</th>\n",
       "      <td>생각</td>\n",
       "      <td>290</td>\n",
       "    </tr>\n",
       "    <tr>\n",
       "      <th>2351</th>\n",
       "      <td>사람</td>\n",
       "      <td>278</td>\n",
       "    </tr>\n",
       "    <tr>\n",
       "      <th>821</th>\n",
       "      <td>눈물</td>\n",
       "      <td>255</td>\n",
       "    </tr>\n",
       "    <tr>\n",
       "      <th>2660</th>\n",
       "      <td>시간</td>\n",
       "      <td>241</td>\n",
       "    </tr>\n",
       "    <tr>\n",
       "      <th>3505</th>\n",
       "      <td>위해</td>\n",
       "      <td>211</td>\n",
       "    </tr>\n",
       "    <tr>\n",
       "      <th>477</th>\n",
       "      <td>기억</td>\n",
       "      <td>195</td>\n",
       "    </tr>\n",
       "    <tr>\n",
       "      <th>63</th>\n",
       "      <td>가슴</td>\n",
       "      <td>172</td>\n",
       "    </tr>\n",
       "    <tr>\n",
       "      <th>4565</th>\n",
       "      <td>하늘</td>\n",
       "      <td>155</td>\n",
       "    </tr>\n",
       "    <tr>\n",
       "      <th>3284</th>\n",
       "      <td>오늘</td>\n",
       "      <td>155</td>\n",
       "    </tr>\n",
       "    <tr>\n",
       "      <th>591</th>\n",
       "      <td>나나</td>\n",
       "      <td>147</td>\n",
       "    </tr>\n",
       "    <tr>\n",
       "      <th>4377</th>\n",
       "      <td>친구</td>\n",
       "      <td>146</td>\n",
       "    </tr>\n",
       "    <tr>\n",
       "      <th>4868</th>\n",
       "      <td>혼자</td>\n",
       "      <td>141</td>\n",
       "    </tr>\n",
       "    <tr>\n",
       "      <th>363</th>\n",
       "      <td>그녀</td>\n",
       "      <td>141</td>\n",
       "    </tr>\n",
       "    <tr>\n",
       "      <th>896</th>\n",
       "      <td>다른</td>\n",
       "      <td>137</td>\n",
       "    </tr>\n",
       "    <tr>\n",
       "      <th>1526</th>\n",
       "      <td>많은</td>\n",
       "      <td>134</td>\n",
       "    </tr>\n",
       "    <tr>\n",
       "      <th>2579</th>\n",
       "      <td>순간</td>\n",
       "      <td>129</td>\n",
       "    </tr>\n",
       "    <tr>\n",
       "      <th>182</th>\n",
       "      <td>같은</td>\n",
       "      <td>129</td>\n",
       "    </tr>\n",
       "    <tr>\n",
       "      <th>3112</th>\n",
       "      <td>언제</td>\n",
       "      <td>127</td>\n",
       "    </tr>\n",
       "    <tr>\n",
       "      <th>2465</th>\n",
       "      <td>서로</td>\n",
       "      <td>122</td>\n",
       "    </tr>\n",
       "    <tr>\n",
       "      <th>3591</th>\n",
       "      <td>이상</td>\n",
       "      <td>121</td>\n",
       "    </tr>\n",
       "    <tr>\n",
       "      <th>1996</th>\n",
       "      <td>버린</td>\n",
       "      <td>120</td>\n",
       "    </tr>\n",
       "    <tr>\n",
       "      <th>4633</th>\n",
       "      <td>한번</td>\n",
       "      <td>116</td>\n",
       "    </tr>\n",
       "    <tr>\n",
       "      <th>3584</th>\n",
       "      <td>이별</td>\n",
       "      <td>113</td>\n",
       "    </tr>\n",
       "  </tbody>\n",
       "</table>\n",
       "</div>"
      ],
      "text/plain": [
       "      단어    빈도\n",
       "2354  사랑  1417\n",
       "366   그대   756\n",
       "1446  마음   437\n",
       "1673  모두   374\n",
       "2508  세상   373\n",
       "1694  모습   327\n",
       "4095  지금   313\n",
       "2440  생각   290\n",
       "2351  사람   278\n",
       "821   눈물   255\n",
       "2660  시간   241\n",
       "3505  위해   211\n",
       "477   기억   195\n",
       "63    가슴   172\n",
       "4565  하늘   155\n",
       "3284  오늘   155\n",
       "591   나나   147\n",
       "4377  친구   146\n",
       "4868  혼자   141\n",
       "363   그녀   141\n",
       "896   다른   137\n",
       "1526  많은   134\n",
       "2579  순간   129\n",
       "182   같은   129\n",
       "3112  언제   127\n",
       "2465  서로   122\n",
       "3591  이상   121\n",
       "1996  버린   120\n",
       "4633  한번   116\n",
       "3584  이별   113"
      ]
     },
     "execution_count": 77,
     "metadata": {},
     "output_type": "execute_result"
    }
   ],
   "source": [
    "wc = pd.DataFrame({\n",
    "    '단어': cv.get_feature_names(),\n",
    "    '빈도': tdm.sum(axis=0).flat\n",
    "})\n",
    "\n",
    "wc.sort_values('빈도', ascending=False).head(30)"
   ]
  },
  {
   "cell_type": "code",
   "execution_count": 41,
   "id": "45e6d883",
   "metadata": {
    "ExecuteTime": {
     "end_time": "2021-12-01T02:56:50.284166Z",
     "start_time": "2021-12-01T02:56:49.482230Z"
    }
   },
   "outputs": [
    {
     "data": {
      "image/png": "[encoded data removed]",
      "text/plain": [
       "<PIL.Image.Image image mode=RGB size=400x300 at 0x29ECF6CFF10>"
      ]
     },
     "execution_count": 41,
     "metadata": {},
     "output_type": "execute_result"
    }
   ],
   "source": [
    "WC = WordCloud(font_path='NanumBarunGothic.ttf' ,background_color='white', width=400, height=300)\n",
    "count_dic = wc.set_index('단어')['빈도'].to_dict()\n",
    "# count_dic\n",
    "cloud = WC.generate_from_frequencies(count_dic)\n",
    "cloud.to_image()"
   ]
  },
  {
   "cell_type": "markdown",
   "id": "f412b57a",
   "metadata": {
    "ExecuteTime": {
     "end_time": "2021-12-01T02:59:20.697627Z",
     "start_time": "2021-12-01T02:59:20.687274Z"
    }
   },
   "source": [
    "### 당연히 ...\n",
    "사랑이라는 단어가 가장 많이 나올 것이기 때문에.. Top10 → Top11로 변경"
   ]
  },
  {
   "cell_type": "code",
   "execution_count": 78,
   "id": "cc9e2c09",
   "metadata": {
    "ExecuteTime": {
     "end_time": "2021-12-01T03:10:33.704458Z",
     "start_time": "2021-12-01T03:10:33.478418Z"
    }
   },
   "outputs": [
    {
     "data": {
      "image/png": "[encoded data removed]",
      "text/plain": [
       "<Figure size 432x288 with 1 Axes>"
      ]
     },
     "metadata": {
      "needs_background": "light"
     },
     "output_type": "display_data"
    }
   ],
   "source": [
    "# jupyter notebook 내 그래프를 바로 그리기 위한 설정\n",
    "%matplotlib inline\n",
    "plt.rc('font', family='malgun gothic') # 그래프에서 한글 깨지는 현상 방지\n",
    "plt.rcParams['axes.unicode_minus']=False #음수 부호 깨짐 방지\n",
    "wc11 = wc.sort_values('빈도', ascending=False).head(11)\n",
    "sns.barplot(wc11['빈도'],wc11['단어'])\n",
    "\n",
    "sns.set(rc={'figure.figsize':(20,20)}) # , font='NanumBarunGothic.ttf'"
   ]
  },
  {
   "cell_type": "markdown",
   "id": "63561cb0",
   "metadata": {},
   "source": [
    "## 연도 칼럼 추가"
   ]
  },
  {
   "cell_type": "code",
   "execution_count": 80,
   "id": "23f58242",
   "metadata": {
    "ExecuteTime": {
     "end_time": "2021-12-01T03:10:53.356567Z",
     "start_time": "2021-12-01T03:10:53.335446Z"
    }
   },
   "outputs": [
    {
     "data": {
      "text/html": [
       "<div>\n",
       "<style scoped>\n",
       "    .dataframe tbody tr th:only-of-type {\n",
       "        vertical-align: middle;\n",
       "    }\n",
       "\n",
       "    .dataframe tbody tr th {\n",
       "        vertical-align: top;\n",
       "    }\n",
       "\n",
       "    .dataframe thead th {\n",
       "        text-align: right;\n",
       "    }\n",
       "</style>\n",
       "<table border=\"1\" class=\"dataframe\">\n",
       "  <thead>\n",
       "    <tr style=\"text-align: right;\">\n",
       "      <th></th>\n",
       "      <th>단어</th>\n",
       "      <th>빈도</th>\n",
       "      <th>year</th>\n",
       "    </tr>\n",
       "  </thead>\n",
       "  <tbody>\n",
       "    <tr>\n",
       "      <th>2354</th>\n",
       "      <td>사랑</td>\n",
       "      <td>1417</td>\n",
       "      <td>1990y</td>\n",
       "    </tr>\n",
       "    <tr>\n",
       "      <th>366</th>\n",
       "      <td>그대</td>\n",
       "      <td>756</td>\n",
       "      <td>1990y</td>\n",
       "    </tr>\n",
       "    <tr>\n",
       "      <th>1446</th>\n",
       "      <td>마음</td>\n",
       "      <td>437</td>\n",
       "      <td>1990y</td>\n",
       "    </tr>\n",
       "    <tr>\n",
       "      <th>1673</th>\n",
       "      <td>모두</td>\n",
       "      <td>374</td>\n",
       "      <td>1990y</td>\n",
       "    </tr>\n",
       "    <tr>\n",
       "      <th>2508</th>\n",
       "      <td>세상</td>\n",
       "      <td>373</td>\n",
       "      <td>1990y</td>\n",
       "    </tr>\n",
       "    <tr>\n",
       "      <th>1694</th>\n",
       "      <td>모습</td>\n",
       "      <td>327</td>\n",
       "      <td>1990y</td>\n",
       "    </tr>\n",
       "    <tr>\n",
       "      <th>4095</th>\n",
       "      <td>지금</td>\n",
       "      <td>313</td>\n",
       "      <td>1990y</td>\n",
       "    </tr>\n",
       "    <tr>\n",
       "      <th>2440</th>\n",
       "      <td>생각</td>\n",
       "      <td>290</td>\n",
       "      <td>1990y</td>\n",
       "    </tr>\n",
       "    <tr>\n",
       "      <th>2351</th>\n",
       "      <td>사람</td>\n",
       "      <td>278</td>\n",
       "      <td>1990y</td>\n",
       "    </tr>\n",
       "    <tr>\n",
       "      <th>821</th>\n",
       "      <td>눈물</td>\n",
       "      <td>255</td>\n",
       "      <td>1990y</td>\n",
       "    </tr>\n",
       "    <tr>\n",
       "      <th>2660</th>\n",
       "      <td>시간</td>\n",
       "      <td>241</td>\n",
       "      <td>1990y</td>\n",
       "    </tr>\n",
       "  </tbody>\n",
       "</table>\n",
       "</div>"
      ],
      "text/plain": [
       "      단어    빈도   year\n",
       "2354  사랑  1417  1990y\n",
       "366   그대   756  1990y\n",
       "1446  마음   437  1990y\n",
       "1673  모두   374  1990y\n",
       "2508  세상   373  1990y\n",
       "1694  모습   327  1990y\n",
       "4095  지금   313  1990y\n",
       "2440  생각   290  1990y\n",
       "2351  사람   278  1990y\n",
       "821   눈물   255  1990y\n",
       "2660  시간   241  1990y"
      ]
     },
     "execution_count": 80,
     "metadata": {},
     "output_type": "execute_result"
    }
   ],
   "source": [
    "# 1990 Top11 words\n",
    "wc11['year'] = '1990y'\n",
    "wc1990 = wc11\n",
    "wc1990"
   ]
  },
  {
   "cell_type": "markdown",
   "id": "31725cc0",
   "metadata": {},
   "source": [
    "---"
   ]
  },
  {
   "cell_type": "markdown",
   "id": "74ad0dd9",
   "metadata": {},
   "source": [
    "## 2000 년대"
   ]
  },
  {
   "cell_type": "code",
   "execution_count": 50,
   "id": "234b51c8",
   "metadata": {
    "ExecuteTime": {
     "end_time": "2021-12-01T03:06:29.732821Z",
     "start_time": "2021-12-01T03:06:29.707791Z"
    }
   },
   "outputs": [
    {
     "data": {
      "text/html": [
       "<div>\n",
       "<style scoped>\n",
       "    .dataframe tbody tr th:only-of-type {\n",
       "        vertical-align: middle;\n",
       "    }\n",
       "\n",
       "    .dataframe tbody tr th {\n",
       "        vertical-align: top;\n",
       "    }\n",
       "\n",
       "    .dataframe thead th {\n",
       "        text-align: right;\n",
       "    }\n",
       "</style>\n",
       "<table border=\"1\" class=\"dataframe\">\n",
       "  <thead>\n",
       "    <tr style=\"text-align: right;\">\n",
       "      <th></th>\n",
       "      <th>song_id</th>\n",
       "      <th>song_name</th>\n",
       "      <th>artist</th>\n",
       "      <th>album</th>\n",
       "      <th>Like_Count</th>\n",
       "      <th>Lyric</th>\n",
       "      <th>cover_url</th>\n",
       "      <th>tags</th>\n",
       "      <th>year</th>\n",
       "    </tr>\n",
       "  </thead>\n",
       "  <tbody>\n",
       "    <tr>\n",
       "      <th>0</th>\n",
       "      <td>418253</td>\n",
       "      <td>보고 싶다</td>\n",
       "      <td>김범수</td>\n",
       "      <td>3rd. 보고 싶다</td>\n",
       "      <td>342238</td>\n",
       "      <td>아무리 기다려도 난 못가   바보처럼 울고 있는 너의 곁에  상처만 주는 나를 왜 ...</td>\n",
       "      <td>https://image.bugsm.co.kr/album/images/200/262...</td>\n",
       "      <td>['국내', '가요', '노래방', '2000년대', '연대별', 'Y세대', '연...</td>\n",
       "      <td>2000y</td>\n",
       "    </tr>\n",
       "    <tr>\n",
       "      <th>1</th>\n",
       "      <td>445413</td>\n",
       "      <td>사랑합니다...</td>\n",
       "      <td>팀</td>\n",
       "      <td>Tim 영민</td>\n",
       "      <td>332812</td>\n",
       "      <td>나빠요 참 그대란 사람   허락도 없이 왜 내 맘 가져요   그대 때문에 난 힘겹게...</td>\n",
       "      <td>https://image.bugsm.co.kr/album/images/200/307...</td>\n",
       "      <td>['국내', '가요', '노래방', '2000년대', '연대별', 'Y세대', '연...</td>\n",
       "      <td>2000y</td>\n",
       "    </tr>\n",
       "  </tbody>\n",
       "</table>\n",
       "</div>"
      ],
      "text/plain": [
       "   song_id song_name artist       album  Like_Count  \\\n",
       "0   418253     보고 싶다    김범수  3rd. 보고 싶다      342238   \n",
       "1   445413  사랑합니다...      팀      Tim 영민      332812   \n",
       "\n",
       "                                               Lyric  \\\n",
       "0  아무리 기다려도 난 못가   바보처럼 울고 있는 너의 곁에  상처만 주는 나를 왜 ...   \n",
       "1  나빠요 참 그대란 사람   허락도 없이 왜 내 맘 가져요   그대 때문에 난 힘겹게...   \n",
       "\n",
       "                                           cover_url  \\\n",
       "0  https://image.bugsm.co.kr/album/images/200/262...   \n",
       "1  https://image.bugsm.co.kr/album/images/200/307...   \n",
       "\n",
       "                                                tags   year  \n",
       "0  ['국내', '가요', '노래방', '2000년대', '연대별', 'Y세대', '연...  2000y  \n",
       "1  ['국내', '가요', '노래방', '2000년대', '연대별', 'Y세대', '연...  2000y  "
      ]
     },
     "execution_count": 50,
     "metadata": {},
     "output_type": "execute_result"
    }
   ],
   "source": [
    "# like count 정렬 맞는지 다시 확인\n",
    "sort_like20.head(2)"
   ]
  },
  {
   "cell_type": "code",
   "execution_count": 51,
   "id": "9f94b554",
   "metadata": {
    "ExecuteTime": {
     "end_time": "2021-12-01T03:06:38.539919Z",
     "start_time": "2021-12-01T03:06:38.527914Z"
    }
   },
   "outputs": [],
   "source": [
    "lyric20 = sort_like20.Lyric"
   ]
  },
  {
   "cell_type": "code",
   "execution_count": 61,
   "id": "818f2377",
   "metadata": {
    "ExecuteTime": {
     "end_time": "2021-12-01T03:08:25.273229Z",
     "start_time": "2021-12-01T03:08:03.697483Z"
    }
   },
   "outputs": [],
   "source": [
    "tagging_okt = []\n",
    "for i in lyric20:\n",
    "    tag_word = okt.pos(i)\n",
    "    tagging_okt.append(tag_word)"
   ]
  },
  {
   "cell_type": "code",
   "execution_count": 62,
   "id": "64e78d86",
   "metadata": {
    "ExecuteTime": {
     "end_time": "2021-12-01T03:08:25.863039Z",
     "start_time": "2021-12-01T03:08:25.786121Z"
    }
   },
   "outputs": [],
   "source": [
    "corpus = []\n",
    "for song in tagging_okt:\n",
    "    for word in song:\n",
    "        if (word[1] == 'Adjective') or (word[1] =='Noun') or (word[1] =='Verb'):\n",
    "            corpus.append(word[0])"
   ]
  },
  {
   "cell_type": "code",
   "execution_count": 63,
   "id": "25f27b31",
   "metadata": {
    "ExecuteTime": {
     "end_time": "2021-12-01T03:08:26.341089Z",
     "start_time": "2021-12-01T03:08:26.295088Z"
    }
   },
   "outputs": [],
   "source": [
    "word_dict = {}\n",
    "for i in corpus:\n",
    "    if i in word_dict:\n",
    "        word_dict[i] += 1\n",
    "    else: \n",
    "        word_dict[i] = 1\n",
    "        \n",
    "# print(word_dict)"
   ]
  },
  {
   "cell_type": "code",
   "execution_count": 64,
   "id": "1d8902a2",
   "metadata": {
    "ExecuteTime": {
     "end_time": "2021-12-01T03:08:27.522118Z",
     "start_time": "2021-12-01T03:08:26.888099Z"
    }
   },
   "outputs": [
    {
     "name": "stdout",
     "output_type": "stream",
     "text": [
      "(155614, 5000)\n",
      "5000\n"
     ]
    }
   ],
   "source": [
    "cv = CountVectorizer(max_features=5000, stop_words=stop_w) \n",
    "tdm = cv.fit_transform(corpus)\n",
    "\n",
    "# tdm.shape\n",
    "# len(cv.get_feature_names())\n",
    "print(tdm.shape)\n",
    "print(len(cv.get_feature_names()))"
   ]
  },
  {
   "cell_type": "code",
   "execution_count": 65,
   "id": "00957940",
   "metadata": {
    "ExecuteTime": {
     "end_time": "2021-12-01T03:08:28.063092Z",
     "start_time": "2021-12-01T03:08:28.049088Z"
    }
   },
   "outputs": [
    {
     "data": {
      "text/plain": [
       "['가게', '가겠어', '가겠죠', '가겠지', '가고', '가기', '가까워', '가까이', '가끔', '가나']"
      ]
     },
     "execution_count": 65,
     "metadata": {},
     "output_type": "execute_result"
    }
   ],
   "source": [
    "cv.get_feature_names()[:10]"
   ]
  },
  {
   "cell_type": "code",
   "execution_count": 66,
   "id": "9971f6fb",
   "metadata": {
    "ExecuteTime": {
     "end_time": "2021-12-01T03:08:28.603397Z",
     "start_time": "2021-12-01T03:08:28.574093Z"
    }
   },
   "outputs": [
    {
     "data": {
      "text/html": [
       "<div>\n",
       "<style scoped>\n",
       "    .dataframe tbody tr th:only-of-type {\n",
       "        vertical-align: middle;\n",
       "    }\n",
       "\n",
       "    .dataframe tbody tr th {\n",
       "        vertical-align: top;\n",
       "    }\n",
       "\n",
       "    .dataframe thead th {\n",
       "        text-align: right;\n",
       "    }\n",
       "</style>\n",
       "<table border=\"1\" class=\"dataframe\">\n",
       "  <thead>\n",
       "    <tr style=\"text-align: right;\">\n",
       "      <th></th>\n",
       "      <th>단어</th>\n",
       "      <th>빈도</th>\n",
       "    </tr>\n",
       "  </thead>\n",
       "  <tbody>\n",
       "    <tr>\n",
       "      <th>2397</th>\n",
       "      <td>사랑</td>\n",
       "      <td>2879</td>\n",
       "    </tr>\n",
       "    <tr>\n",
       "      <th>387</th>\n",
       "      <td>그대</td>\n",
       "      <td>1778</td>\n",
       "    </tr>\n",
       "    <tr>\n",
       "      <th>2395</th>\n",
       "      <td>사람</td>\n",
       "      <td>708</td>\n",
       "    </tr>\n",
       "    <tr>\n",
       "      <th>863</th>\n",
       "      <td>눈물</td>\n",
       "      <td>628</td>\n",
       "    </tr>\n",
       "    <tr>\n",
       "      <th>2596</th>\n",
       "      <td>세상</td>\n",
       "      <td>596</td>\n",
       "    </tr>\n",
       "    <tr>\n",
       "      <th>58</th>\n",
       "      <td>가슴</td>\n",
       "      <td>538</td>\n",
       "    </tr>\n",
       "    <tr>\n",
       "      <th>1432</th>\n",
       "      <td>마음</td>\n",
       "      <td>533</td>\n",
       "    </tr>\n",
       "    <tr>\n",
       "      <th>1682</th>\n",
       "      <td>모두</td>\n",
       "      <td>506</td>\n",
       "    </tr>\n",
       "    <tr>\n",
       "      <th>522</th>\n",
       "      <td>기억</td>\n",
       "      <td>445</td>\n",
       "    </tr>\n",
       "    <tr>\n",
       "      <th>2512</th>\n",
       "      <td>생각</td>\n",
       "      <td>435</td>\n",
       "    </tr>\n",
       "    <tr>\n",
       "      <th>2765</th>\n",
       "      <td>시간</td>\n",
       "      <td>400</td>\n",
       "    </tr>\n",
       "    <tr>\n",
       "      <th>4124</th>\n",
       "      <td>지금</td>\n",
       "      <td>373</td>\n",
       "    </tr>\n",
       "    <tr>\n",
       "      <th>3388</th>\n",
       "      <td>오늘</td>\n",
       "      <td>355</td>\n",
       "    </tr>\n",
       "    <tr>\n",
       "      <th>4630</th>\n",
       "      <td>하늘</td>\n",
       "      <td>346</td>\n",
       "    </tr>\n",
       "    <tr>\n",
       "      <th>1704</th>\n",
       "      <td>모습</td>\n",
       "      <td>325</td>\n",
       "    </tr>\n",
       "    <tr>\n",
       "      <th>172</th>\n",
       "      <td>같은</td>\n",
       "      <td>318</td>\n",
       "    </tr>\n",
       "    <tr>\n",
       "      <th>383</th>\n",
       "      <td>그녀</td>\n",
       "      <td>277</td>\n",
       "    </tr>\n",
       "    <tr>\n",
       "      <th>925</th>\n",
       "      <td>다른</td>\n",
       "      <td>270</td>\n",
       "    </tr>\n",
       "    <tr>\n",
       "      <th>3581</th>\n",
       "      <td>위해</td>\n",
       "      <td>269</td>\n",
       "    </tr>\n",
       "    <tr>\n",
       "      <th>644</th>\n",
       "      <td>나나</td>\n",
       "      <td>258</td>\n",
       "    </tr>\n",
       "    <tr>\n",
       "      <th>4648</th>\n",
       "      <td>하루</td>\n",
       "      <td>248</td>\n",
       "    </tr>\n",
       "    <tr>\n",
       "      <th>4894</th>\n",
       "      <td>혼자</td>\n",
       "      <td>242</td>\n",
       "    </tr>\n",
       "    <tr>\n",
       "      <th>4694</th>\n",
       "      <td>한번</td>\n",
       "      <td>241</td>\n",
       "    </tr>\n",
       "    <tr>\n",
       "      <th>2676</th>\n",
       "      <td>순간</td>\n",
       "      <td>238</td>\n",
       "    </tr>\n",
       "    <tr>\n",
       "      <th>1724</th>\n",
       "      <td>몰라</td>\n",
       "      <td>221</td>\n",
       "    </tr>\n",
       "    <tr>\n",
       "      <th>1944</th>\n",
       "      <td>바보</td>\n",
       "      <td>218</td>\n",
       "    </tr>\n",
       "    <tr>\n",
       "      <th>4373</th>\n",
       "      <td>추억</td>\n",
       "      <td>217</td>\n",
       "    </tr>\n",
       "    <tr>\n",
       "      <th>3979</th>\n",
       "      <td>조금</td>\n",
       "      <td>206</td>\n",
       "    </tr>\n",
       "    <tr>\n",
       "      <th>3837</th>\n",
       "      <td>자꾸</td>\n",
       "      <td>200</td>\n",
       "    </tr>\n",
       "    <tr>\n",
       "      <th>812</th>\n",
       "      <td>노래</td>\n",
       "      <td>199</td>\n",
       "    </tr>\n",
       "  </tbody>\n",
       "</table>\n",
       "</div>"
      ],
      "text/plain": [
       "      단어    빈도\n",
       "2397  사랑  2879\n",
       "387   그대  1778\n",
       "2395  사람   708\n",
       "863   눈물   628\n",
       "2596  세상   596\n",
       "58    가슴   538\n",
       "1432  마음   533\n",
       "1682  모두   506\n",
       "522   기억   445\n",
       "2512  생각   435\n",
       "2765  시간   400\n",
       "4124  지금   373\n",
       "3388  오늘   355\n",
       "4630  하늘   346\n",
       "1704  모습   325\n",
       "172   같은   318\n",
       "383   그녀   277\n",
       "925   다른   270\n",
       "3581  위해   269\n",
       "644   나나   258\n",
       "4648  하루   248\n",
       "4894  혼자   242\n",
       "4694  한번   241\n",
       "2676  순간   238\n",
       "1724  몰라   221\n",
       "1944  바보   218\n",
       "4373  추억   217\n",
       "3979  조금   206\n",
       "3837  자꾸   200\n",
       "812   노래   199"
      ]
     },
     "execution_count": 66,
     "metadata": {},
     "output_type": "execute_result"
    }
   ],
   "source": [
    "wc = pd.DataFrame({\n",
    "    '단어': cv.get_feature_names(),\n",
    "    '빈도': tdm.sum(axis=0).flat\n",
    "})\n",
    "\n",
    "wc.sort_values('빈도', ascending=False).head(30)"
   ]
  },
  {
   "cell_type": "code",
   "execution_count": 67,
   "id": "8f8cfcf5",
   "metadata": {
    "ExecuteTime": {
     "end_time": "2021-12-01T03:08:29.835093Z",
     "start_time": "2021-12-01T03:08:29.084400Z"
    }
   },
   "outputs": [
    {
     "data": {
      "image/png": "[encoded data removed]",
      "text/plain": [
       "<PIL.Image.Image image mode=RGB size=400x300 at 0x29ED74F20D0>"
      ]
     },
     "execution_count": 67,
     "metadata": {},
     "output_type": "execute_result"
    }
   ],
   "source": [
    "WC = WordCloud(font_path='NanumBarunGothic.ttf' ,background_color='white', width=400, height=300)\n",
    "count_dic = wc.set_index('단어')['빈도'].to_dict()\n",
    "# count_dic\n",
    "cloud = WC.generate_from_frequencies(count_dic)\n",
    "cloud.to_image()"
   ]
  },
  {
   "cell_type": "code",
   "execution_count": 68,
   "id": "ffba212d",
   "metadata": {
    "ExecuteTime": {
     "end_time": "2021-12-01T03:08:37.277920Z",
     "start_time": "2021-12-01T03:08:37.057919Z"
    }
   },
   "outputs": [
    {
     "data": {
      "image/png": "[encoded data removed]",
      "text/plain": [
       "<Figure size 432x288 with 1 Axes>"
      ]
     },
     "metadata": {
      "needs_background": "light"
     },
     "output_type": "display_data"
    }
   ],
   "source": [
    "# jupyter notebook 내 그래프를 바로 그리기 위한 설정\n",
    "%matplotlib inline\n",
    "plt.rc('font', family='malgun gothic') # 그래프에서 한글 깨지는 현상 방지\n",
    "plt.rcParams['axes.unicode_minus']=False #음수 부호 깨짐 방지\n",
    "wc11 = wc.sort_values('빈도', ascending=False).head(11)\n",
    "sns.barplot(wc11['빈도'],wc11['단어'])\n",
    "\n",
    "sns.set(rc={'figure.figsize':(20,20)}) # , font='NanumBarunGothic.ttf'"
   ]
  },
  {
   "cell_type": "code",
   "execution_count": 74,
   "id": "0f450e90",
   "metadata": {
    "ExecuteTime": {
     "end_time": "2021-12-01T03:10:01.004761Z",
     "start_time": "2021-12-01T03:10:00.990764Z"
    }
   },
   "outputs": [
    {
     "data": {
      "text/html": [
       "<div>\n",
       "<style scoped>\n",
       "    .dataframe tbody tr th:only-of-type {\n",
       "        vertical-align: middle;\n",
       "    }\n",
       "\n",
       "    .dataframe tbody tr th {\n",
       "        vertical-align: top;\n",
       "    }\n",
       "\n",
       "    .dataframe thead th {\n",
       "        text-align: right;\n",
       "    }\n",
       "</style>\n",
       "<table border=\"1\" class=\"dataframe\">\n",
       "  <thead>\n",
       "    <tr style=\"text-align: right;\">\n",
       "      <th></th>\n",
       "      <th>단어</th>\n",
       "      <th>빈도</th>\n",
       "      <th>year</th>\n",
       "    </tr>\n",
       "  </thead>\n",
       "  <tbody>\n",
       "    <tr>\n",
       "      <th>2397</th>\n",
       "      <td>사랑</td>\n",
       "      <td>2879</td>\n",
       "      <td>2000y</td>\n",
       "    </tr>\n",
       "    <tr>\n",
       "      <th>387</th>\n",
       "      <td>그대</td>\n",
       "      <td>1778</td>\n",
       "      <td>2000y</td>\n",
       "    </tr>\n",
       "    <tr>\n",
       "      <th>2395</th>\n",
       "      <td>사람</td>\n",
       "      <td>708</td>\n",
       "      <td>2000y</td>\n",
       "    </tr>\n",
       "    <tr>\n",
       "      <th>863</th>\n",
       "      <td>눈물</td>\n",
       "      <td>628</td>\n",
       "      <td>2000y</td>\n",
       "    </tr>\n",
       "    <tr>\n",
       "      <th>2596</th>\n",
       "      <td>세상</td>\n",
       "      <td>596</td>\n",
       "      <td>2000y</td>\n",
       "    </tr>\n",
       "    <tr>\n",
       "      <th>58</th>\n",
       "      <td>가슴</td>\n",
       "      <td>538</td>\n",
       "      <td>2000y</td>\n",
       "    </tr>\n",
       "    <tr>\n",
       "      <th>1432</th>\n",
       "      <td>마음</td>\n",
       "      <td>533</td>\n",
       "      <td>2000y</td>\n",
       "    </tr>\n",
       "    <tr>\n",
       "      <th>1682</th>\n",
       "      <td>모두</td>\n",
       "      <td>506</td>\n",
       "      <td>2000y</td>\n",
       "    </tr>\n",
       "    <tr>\n",
       "      <th>522</th>\n",
       "      <td>기억</td>\n",
       "      <td>445</td>\n",
       "      <td>2000y</td>\n",
       "    </tr>\n",
       "    <tr>\n",
       "      <th>2512</th>\n",
       "      <td>생각</td>\n",
       "      <td>435</td>\n",
       "      <td>2000y</td>\n",
       "    </tr>\n",
       "    <tr>\n",
       "      <th>2765</th>\n",
       "      <td>시간</td>\n",
       "      <td>400</td>\n",
       "      <td>2000y</td>\n",
       "    </tr>\n",
       "  </tbody>\n",
       "</table>\n",
       "</div>"
      ],
      "text/plain": [
       "      단어    빈도   year\n",
       "2397  사랑  2879  2000y\n",
       "387   그대  1778  2000y\n",
       "2395  사람   708  2000y\n",
       "863   눈물   628  2000y\n",
       "2596  세상   596  2000y\n",
       "58    가슴   538  2000y\n",
       "1432  마음   533  2000y\n",
       "1682  모두   506  2000y\n",
       "522   기억   445  2000y\n",
       "2512  생각   435  2000y\n",
       "2765  시간   400  2000y"
      ]
     },
     "execution_count": 74,
     "metadata": {},
     "output_type": "execute_result"
    }
   ],
   "source": [
    "# 2000 Top11 words\n",
    "wc11['year'] = '2000y'\n",
    "wc2000 = wc11\n",
    "wc2000"
   ]
  },
  {
   "cell_type": "markdown",
   "id": "0e50d231",
   "metadata": {},
   "source": [
    "---"
   ]
  },
  {
   "cell_type": "markdown",
   "id": "7a24fe8c",
   "metadata": {},
   "source": [
    "## 2010 년대"
   ]
  },
  {
   "cell_type": "code",
   "execution_count": 81,
   "id": "5c5cfcff",
   "metadata": {
    "ExecuteTime": {
     "end_time": "2021-12-01T03:11:22.138799Z",
     "start_time": "2021-12-01T03:11:22.116840Z"
    }
   },
   "outputs": [
    {
     "data": {
      "text/html": [
       "<div>\n",
       "<style scoped>\n",
       "    .dataframe tbody tr th:only-of-type {\n",
       "        vertical-align: middle;\n",
       "    }\n",
       "\n",
       "    .dataframe tbody tr th {\n",
       "        vertical-align: top;\n",
       "    }\n",
       "\n",
       "    .dataframe thead th {\n",
       "        text-align: right;\n",
       "    }\n",
       "</style>\n",
       "<table border=\"1\" class=\"dataframe\">\n",
       "  <thead>\n",
       "    <tr style=\"text-align: right;\">\n",
       "      <th></th>\n",
       "      <th>song_id</th>\n",
       "      <th>song_name</th>\n",
       "      <th>artist</th>\n",
       "      <th>album</th>\n",
       "      <th>Like_Count</th>\n",
       "      <th>Lyric</th>\n",
       "      <th>cover_url</th>\n",
       "      <th>tags</th>\n",
       "      <th>year</th>\n",
       "    </tr>\n",
       "  </thead>\n",
       "  <tbody>\n",
       "    <tr>\n",
       "      <th>33</th>\n",
       "      <td>1902268</td>\n",
       "      <td>죽어도 못 보내</td>\n",
       "      <td>2am</td>\n",
       "      <td>죽어도 못 보내</td>\n",
       "      <td>179984</td>\n",
       "      <td>어려도 아픈건 똑같아  세상을 잘 모른다고 아픈걸 모르진 않아    괜찮아 질 거라...</td>\n",
       "      <td>https://image.bugsm.co.kr/album/images/200/215...</td>\n",
       "      <td>['국내', '가요', '발라드', '100시리즈', '발라드한', '연대별', '...</td>\n",
       "      <td>2010y</td>\n",
       "    </tr>\n",
       "    <tr>\n",
       "      <th>44</th>\n",
       "      <td>1898221</td>\n",
       "      <td>외톨이야</td>\n",
       "      <td>씨엔블루(CNBLUE)</td>\n",
       "      <td>Bluetory</td>\n",
       "      <td>165137</td>\n",
       "      <td>외톨이야 외톨이야 외톨이야 외톨이야    봐 봐 나를 봐 봐  똑바로 내 두눈을 봐...</td>\n",
       "      <td>https://image.bugsm.co.kr/album/images/200/215...</td>\n",
       "      <td>['국내', '가요', '아이돌', 'KPOP', '연대별', '2010년대', '...</td>\n",
       "      <td>2010y</td>\n",
       "    </tr>\n",
       "  </tbody>\n",
       "</table>\n",
       "</div>"
      ],
      "text/plain": [
       "    song_id song_name        artist     album  Like_Count  \\\n",
       "33  1902268  죽어도 못 보내           2am  죽어도 못 보내      179984   \n",
       "44  1898221      외톨이야  씨엔블루(CNBLUE)  Bluetory      165137   \n",
       "\n",
       "                                                Lyric  \\\n",
       "33  어려도 아픈건 똑같아  세상을 잘 모른다고 아픈걸 모르진 않아    괜찮아 질 거라...   \n",
       "44  외톨이야 외톨이야 외톨이야 외톨이야    봐 봐 나를 봐 봐  똑바로 내 두눈을 봐...   \n",
       "\n",
       "                                            cover_url  \\\n",
       "33  https://image.bugsm.co.kr/album/images/200/215...   \n",
       "44  https://image.bugsm.co.kr/album/images/200/215...   \n",
       "\n",
       "                                                 tags   year  \n",
       "33  ['국내', '가요', '발라드', '100시리즈', '발라드한', '연대별', '...  2010y  \n",
       "44  ['국내', '가요', '아이돌', 'KPOP', '연대별', '2010년대', '...  2010y  "
      ]
     },
     "execution_count": 81,
     "metadata": {},
     "output_type": "execute_result"
    }
   ],
   "source": [
    "# like count 정렬 맞는지 다시 확인\n",
    "sort_like2010.head(2)"
   ]
  },
  {
   "cell_type": "code",
   "execution_count": 82,
   "id": "e4398eb3",
   "metadata": {
    "ExecuteTime": {
     "end_time": "2021-12-01T03:11:36.665771Z",
     "start_time": "2021-12-01T03:11:36.652228Z"
    }
   },
   "outputs": [],
   "source": [
    "lyric2010 = sort_like2010.Lyric"
   ]
  },
  {
   "cell_type": "code",
   "execution_count": 83,
   "id": "500c6200",
   "metadata": {
    "ExecuteTime": {
     "end_time": "2021-12-01T03:12:04.231830Z",
     "start_time": "2021-12-01T03:11:45.579573Z"
    }
   },
   "outputs": [],
   "source": [
    "tagging_okt = []\n",
    "for i in lyric2010:\n",
    "    tag_word = okt.pos(i)\n",
    "    tagging_okt.append(tag_word)"
   ]
  },
  {
   "cell_type": "code",
   "execution_count": 84,
   "id": "a183f419",
   "metadata": {
    "ExecuteTime": {
     "end_time": "2021-12-01T03:12:04.867211Z",
     "start_time": "2021-12-01T03:12:04.775181Z"
    }
   },
   "outputs": [],
   "source": [
    "corpus = []\n",
    "for song in tagging_okt:\n",
    "    for word in song:\n",
    "        if (word[1] == 'Adjective') or (word[1] =='Noun') or (word[1] =='Verb'):\n",
    "            corpus.append(word[0])"
   ]
  },
  {
   "cell_type": "code",
   "execution_count": 85,
   "id": "3b216f9e",
   "metadata": {
    "ExecuteTime": {
     "end_time": "2021-12-01T03:12:05.503206Z",
     "start_time": "2021-12-01T03:12:05.443179Z"
    }
   },
   "outputs": [],
   "source": [
    "word_dict = {}\n",
    "for i in corpus:\n",
    "    if i in word_dict:\n",
    "        word_dict[i] += 1\n",
    "    else: \n",
    "        word_dict[i] = 1\n",
    "        \n",
    "# print(word_dict)"
   ]
  },
  {
   "cell_type": "code",
   "execution_count": 86,
   "id": "6a289041",
   "metadata": {
    "ExecuteTime": {
     "end_time": "2021-12-01T03:12:06.684212Z",
     "start_time": "2021-12-01T03:12:06.047180Z"
    }
   },
   "outputs": [
    {
     "name": "stdout",
     "output_type": "stream",
     "text": [
      "(138310, 5000)\n",
      "5000\n"
     ]
    }
   ],
   "source": [
    "cv = CountVectorizer(max_features=5000, stop_words=stop_w) \n",
    "tdm = cv.fit_transform(corpus)\n",
    "\n",
    "# tdm.shape\n",
    "# len(cv.get_feature_names())\n",
    "print(tdm.shape)\n",
    "print(len(cv.get_feature_names()))"
   ]
  },
  {
   "cell_type": "code",
   "execution_count": 87,
   "id": "f3577361",
   "metadata": {
    "ExecuteTime": {
     "end_time": "2021-12-01T03:12:09.989474Z",
     "start_time": "2021-12-01T03:12:09.976414Z"
    }
   },
   "outputs": [
    {
     "data": {
      "text/plain": [
       "['가가', '가게', '가겠지', '가고', '가기', '가까운', '가까워지는', '가까이', '가끔', '가나']"
      ]
     },
     "execution_count": 87,
     "metadata": {},
     "output_type": "execute_result"
    }
   ],
   "source": [
    "cv.get_feature_names()[:10]"
   ]
  },
  {
   "cell_type": "code",
   "execution_count": 88,
   "id": "bd5bce4a",
   "metadata": {
    "ExecuteTime": {
     "end_time": "2021-12-01T03:12:32.215085Z",
     "start_time": "2021-12-01T03:12:32.190990Z"
    }
   },
   "outputs": [
    {
     "data": {
      "text/html": [
       "<div>\n",
       "<style scoped>\n",
       "    .dataframe tbody tr th:only-of-type {\n",
       "        vertical-align: middle;\n",
       "    }\n",
       "\n",
       "    .dataframe tbody tr th {\n",
       "        vertical-align: top;\n",
       "    }\n",
       "\n",
       "    .dataframe thead th {\n",
       "        text-align: right;\n",
       "    }\n",
       "</style>\n",
       "<table border=\"1\" class=\"dataframe\">\n",
       "  <thead>\n",
       "    <tr style=\"text-align: right;\">\n",
       "      <th></th>\n",
       "      <th>단어</th>\n",
       "      <th>빈도</th>\n",
       "    </tr>\n",
       "  </thead>\n",
       "  <tbody>\n",
       "    <tr>\n",
       "      <th>2519</th>\n",
       "      <td>사랑</td>\n",
       "      <td>1437</td>\n",
       "    </tr>\n",
       "    <tr>\n",
       "      <th>421</th>\n",
       "      <td>그대</td>\n",
       "      <td>774</td>\n",
       "    </tr>\n",
       "    <tr>\n",
       "      <th>2517</th>\n",
       "      <td>사람</td>\n",
       "      <td>552</td>\n",
       "    </tr>\n",
       "    <tr>\n",
       "      <th>3437</th>\n",
       "      <td>오늘</td>\n",
       "      <td>521</td>\n",
       "    </tr>\n",
       "    <tr>\n",
       "      <th>2598</th>\n",
       "      <td>생각</td>\n",
       "      <td>512</td>\n",
       "    </tr>\n",
       "    <tr>\n",
       "      <th>1486</th>\n",
       "      <td>마음</td>\n",
       "      <td>509</td>\n",
       "    </tr>\n",
       "    <tr>\n",
       "      <th>2825</th>\n",
       "      <td>시간</td>\n",
       "      <td>446</td>\n",
       "    </tr>\n",
       "    <tr>\n",
       "      <th>4128</th>\n",
       "      <td>지금</td>\n",
       "      <td>440</td>\n",
       "    </tr>\n",
       "    <tr>\n",
       "      <th>2669</th>\n",
       "      <td>세상</td>\n",
       "      <td>340</td>\n",
       "    </tr>\n",
       "    <tr>\n",
       "      <th>1722</th>\n",
       "      <td>모두</td>\n",
       "      <td>301</td>\n",
       "    </tr>\n",
       "    <tr>\n",
       "      <th>174</th>\n",
       "      <td>같은</td>\n",
       "      <td>296</td>\n",
       "    </tr>\n",
       "    <tr>\n",
       "      <th>542</th>\n",
       "      <td>기억</td>\n",
       "      <td>291</td>\n",
       "    </tr>\n",
       "    <tr>\n",
       "      <th>4658</th>\n",
       "      <td>하루</td>\n",
       "      <td>286</td>\n",
       "    </tr>\n",
       "    <tr>\n",
       "      <th>2743</th>\n",
       "      <td>순간</td>\n",
       "      <td>274</td>\n",
       "    </tr>\n",
       "    <tr>\n",
       "      <th>906</th>\n",
       "      <td>눈물</td>\n",
       "      <td>273</td>\n",
       "    </tr>\n",
       "    <tr>\n",
       "      <th>54</th>\n",
       "      <td>가슴</td>\n",
       "      <td>259</td>\n",
       "    </tr>\n",
       "    <tr>\n",
       "      <th>2168</th>\n",
       "      <td>보고</td>\n",
       "      <td>247</td>\n",
       "    </tr>\n",
       "    <tr>\n",
       "      <th>837</th>\n",
       "      <td>노래</td>\n",
       "      <td>241</td>\n",
       "    </tr>\n",
       "    <tr>\n",
       "      <th>3832</th>\n",
       "      <td>자꾸</td>\n",
       "      <td>240</td>\n",
       "    </tr>\n",
       "    <tr>\n",
       "      <th>4020</th>\n",
       "      <td>좋아</td>\n",
       "      <td>218</td>\n",
       "    </tr>\n",
       "    <tr>\n",
       "      <th>1763</th>\n",
       "      <td>몰라</td>\n",
       "      <td>214</td>\n",
       "    </tr>\n",
       "    <tr>\n",
       "      <th>4876</th>\n",
       "      <td>혼자</td>\n",
       "      <td>212</td>\n",
       "    </tr>\n",
       "    <tr>\n",
       "      <th>1635</th>\n",
       "      <td>매일</td>\n",
       "      <td>208</td>\n",
       "    </tr>\n",
       "    <tr>\n",
       "      <th>953</th>\n",
       "      <td>다른</td>\n",
       "      <td>202</td>\n",
       "    </tr>\n",
       "    <tr>\n",
       "      <th>3013</th>\n",
       "      <td>아무</td>\n",
       "      <td>200</td>\n",
       "    </tr>\n",
       "    <tr>\n",
       "      <th>3199</th>\n",
       "      <td>어디</td>\n",
       "      <td>200</td>\n",
       "    </tr>\n",
       "    <tr>\n",
       "      <th>1975</th>\n",
       "      <td>바람</td>\n",
       "      <td>198</td>\n",
       "    </tr>\n",
       "    <tr>\n",
       "      <th>1744</th>\n",
       "      <td>모습</td>\n",
       "      <td>197</td>\n",
       "    </tr>\n",
       "    <tr>\n",
       "      <th>4641</th>\n",
       "      <td>하늘</td>\n",
       "      <td>196</td>\n",
       "    </tr>\n",
       "    <tr>\n",
       "      <th>3656</th>\n",
       "      <td>이런</td>\n",
       "      <td>195</td>\n",
       "    </tr>\n",
       "  </tbody>\n",
       "</table>\n",
       "</div>"
      ],
      "text/plain": [
       "      단어    빈도\n",
       "2519  사랑  1437\n",
       "421   그대   774\n",
       "2517  사람   552\n",
       "3437  오늘   521\n",
       "2598  생각   512\n",
       "1486  마음   509\n",
       "2825  시간   446\n",
       "4128  지금   440\n",
       "2669  세상   340\n",
       "1722  모두   301\n",
       "174   같은   296\n",
       "542   기억   291\n",
       "4658  하루   286\n",
       "2743  순간   274\n",
       "906   눈물   273\n",
       "54    가슴   259\n",
       "2168  보고   247\n",
       "837   노래   241\n",
       "3832  자꾸   240\n",
       "4020  좋아   218\n",
       "1763  몰라   214\n",
       "4876  혼자   212\n",
       "1635  매일   208\n",
       "953   다른   202\n",
       "3013  아무   200\n",
       "3199  어디   200\n",
       "1975  바람   198\n",
       "1744  모습   197\n",
       "4641  하늘   196\n",
       "3656  이런   195"
      ]
     },
     "execution_count": 88,
     "metadata": {},
     "output_type": "execute_result"
    }
   ],
   "source": [
    "wc = pd.DataFrame({\n",
    "    '단어': cv.get_feature_names(),\n",
    "    '빈도': tdm.sum(axis=0).flat\n",
    "})\n",
    "\n",
    "wc.sort_values('빈도', ascending=False).head(30)"
   ]
  },
  {
   "cell_type": "code",
   "execution_count": 89,
   "id": "78c7a46c",
   "metadata": {
    "ExecuteTime": {
     "end_time": "2021-12-01T03:12:47.925214Z",
     "start_time": "2021-12-01T03:12:47.137571Z"
    }
   },
   "outputs": [
    {
     "data": {
      "image/png": "[encoded data removed]",
      "text/plain": [
       "<PIL.Image.Image image mode=RGB size=400x300 at 0x29ED7470C10>"
      ]
     },
     "execution_count": 89,
     "metadata": {},
     "output_type": "execute_result"
    }
   ],
   "source": [
    "WC = WordCloud(font_path='NanumBarunGothic.ttf' ,background_color='white', width=400, height=300)\n",
    "count_dic = wc.set_index('단어')['빈도'].to_dict()\n",
    "# count_dic\n",
    "cloud = WC.generate_from_frequencies(count_dic)\n",
    "cloud.to_image()"
   ]
  },
  {
   "cell_type": "code",
   "execution_count": 90,
   "id": "3550428c",
   "metadata": {
    "ExecuteTime": {
     "end_time": "2021-12-01T03:12:56.862071Z",
     "start_time": "2021-12-01T03:12:56.633390Z"
    }
   },
   "outputs": [
    {
     "data": {
      "image/png": "[encoded data removed]",
      "text/plain": [
       "<Figure size 432x288 with 1 Axes>"
      ]
     },
     "metadata": {
      "needs_background": "light"
     },
     "output_type": "display_data"
    }
   ],
   "source": [
    "# jupyter notebook 내 그래프를 바로 그리기 위한 설정\n",
    "%matplotlib inline\n",
    "plt.rc('font', family='malgun gothic') # 그래프에서 한글 깨지는 현상 방지\n",
    "plt.rcParams['axes.unicode_minus']=False #음수 부호 깨짐 방지\n",
    "wc11 = wc.sort_values('빈도', ascending=False).head(11)\n",
    "sns.barplot(wc11['빈도'],wc11['단어'])\n",
    "\n",
    "sns.set(rc={'figure.figsize':(20,20)}) # , font='NanumBarunGothic.ttf'"
   ]
  },
  {
   "cell_type": "code",
   "execution_count": 91,
   "id": "1613e0e6",
   "metadata": {
    "ExecuteTime": {
     "end_time": "2021-12-01T03:13:23.088974Z",
     "start_time": "2021-12-01T03:13:23.075817Z"
    }
   },
   "outputs": [
    {
     "data": {
      "text/html": [
       "<div>\n",
       "<style scoped>\n",
       "    .dataframe tbody tr th:only-of-type {\n",
       "        vertical-align: middle;\n",
       "    }\n",
       "\n",
       "    .dataframe tbody tr th {\n",
       "        vertical-align: top;\n",
       "    }\n",
       "\n",
       "    .dataframe thead th {\n",
       "        text-align: right;\n",
       "    }\n",
       "</style>\n",
       "<table border=\"1\" class=\"dataframe\">\n",
       "  <thead>\n",
       "    <tr style=\"text-align: right;\">\n",
       "      <th></th>\n",
       "      <th>단어</th>\n",
       "      <th>빈도</th>\n",
       "      <th>year</th>\n",
       "    </tr>\n",
       "  </thead>\n",
       "  <tbody>\n",
       "    <tr>\n",
       "      <th>2519</th>\n",
       "      <td>사랑</td>\n",
       "      <td>1437</td>\n",
       "      <td>2010y</td>\n",
       "    </tr>\n",
       "    <tr>\n",
       "      <th>421</th>\n",
       "      <td>그대</td>\n",
       "      <td>774</td>\n",
       "      <td>2010y</td>\n",
       "    </tr>\n",
       "    <tr>\n",
       "      <th>2517</th>\n",
       "      <td>사람</td>\n",
       "      <td>552</td>\n",
       "      <td>2010y</td>\n",
       "    </tr>\n",
       "    <tr>\n",
       "      <th>3437</th>\n",
       "      <td>오늘</td>\n",
       "      <td>521</td>\n",
       "      <td>2010y</td>\n",
       "    </tr>\n",
       "    <tr>\n",
       "      <th>2598</th>\n",
       "      <td>생각</td>\n",
       "      <td>512</td>\n",
       "      <td>2010y</td>\n",
       "    </tr>\n",
       "    <tr>\n",
       "      <th>1486</th>\n",
       "      <td>마음</td>\n",
       "      <td>509</td>\n",
       "      <td>2010y</td>\n",
       "    </tr>\n",
       "    <tr>\n",
       "      <th>2825</th>\n",
       "      <td>시간</td>\n",
       "      <td>446</td>\n",
       "      <td>2010y</td>\n",
       "    </tr>\n",
       "    <tr>\n",
       "      <th>4128</th>\n",
       "      <td>지금</td>\n",
       "      <td>440</td>\n",
       "      <td>2010y</td>\n",
       "    </tr>\n",
       "    <tr>\n",
       "      <th>2669</th>\n",
       "      <td>세상</td>\n",
       "      <td>340</td>\n",
       "      <td>2010y</td>\n",
       "    </tr>\n",
       "    <tr>\n",
       "      <th>1722</th>\n",
       "      <td>모두</td>\n",
       "      <td>301</td>\n",
       "      <td>2010y</td>\n",
       "    </tr>\n",
       "    <tr>\n",
       "      <th>174</th>\n",
       "      <td>같은</td>\n",
       "      <td>296</td>\n",
       "      <td>2010y</td>\n",
       "    </tr>\n",
       "  </tbody>\n",
       "</table>\n",
       "</div>"
      ],
      "text/plain": [
       "      단어    빈도   year\n",
       "2519  사랑  1437  2010y\n",
       "421   그대   774  2010y\n",
       "2517  사람   552  2010y\n",
       "3437  오늘   521  2010y\n",
       "2598  생각   512  2010y\n",
       "1486  마음   509  2010y\n",
       "2825  시간   446  2010y\n",
       "4128  지금   440  2010y\n",
       "2669  세상   340  2010y\n",
       "1722  모두   301  2010y\n",
       "174   같은   296  2010y"
      ]
     },
     "execution_count": 91,
     "metadata": {},
     "output_type": "execute_result"
    }
   ],
   "source": [
    "# 2010 Top11 words\n",
    "wc11['year'] = '2010y'\n",
    "wc2010 = wc11\n",
    "wc2010"
   ]
  },
  {
   "cell_type": "markdown",
   "id": "c66bd3dc",
   "metadata": {},
   "source": [
    "---"
   ]
  },
  {
   "cell_type": "markdown",
   "id": "cb5f7058",
   "metadata": {},
   "source": [
    "### 연대별 단어 Top11 append\n",
    "* 1990년대 11개 + 2000년대 11개 + 2010년대 11개"
   ]
  },
  {
   "cell_type": "code",
   "execution_count": 92,
   "id": "468edcbb",
   "metadata": {
    "ExecuteTime": {
     "end_time": "2021-12-01T03:15:59.220334Z",
     "start_time": "2021-12-01T03:15:59.200001Z"
    }
   },
   "outputs": [
    {
     "data": {
      "text/plain": [
       "33"
      ]
     },
     "execution_count": 92,
     "metadata": {},
     "output_type": "execute_result"
    }
   ],
   "source": [
    "top11 = wc1990.append(wc2000)\n",
    "top11 = top11.append(wc2010)\n",
    "len(top11) "
   ]
  },
  {
   "cell_type": "markdown",
   "id": "5288318b",
   "metadata": {},
   "source": [
    "### to_csv"
   ]
  },
  {
   "cell_type": "code",
   "execution_count": 93,
   "id": "843f5192",
   "metadata": {
    "ExecuteTime": {
     "end_time": "2021-12-01T03:18:23.687316Z",
     "start_time": "2021-12-01T03:18:23.657193Z"
    }
   },
   "outputs": [],
   "source": [
    "top11.to_csv('top11.csv',index=False)"
   ]
  },
  {
   "cell_type": "markdown",
   "id": "15977f68",
   "metadata": {},
   "source": [
    "### 전체 코드"
   ]
  },
  {
   "cell_type": "code",
   "execution_count": null,
   "id": "d44ccf00",
   "metadata": {},
   "outputs": [],
   "source": [
    "# like count 정렬 맞는지 다시 확인\n",
    "sort_like90.head(2)\n",
    "\n",
    "#\n",
    "lyric90 = sort_like90.Lyric\n",
    "\n",
    "#\n",
    "\n",
    "tagging_okt = []\n",
    "for i in lyric90:\n",
    "    tag_word = okt.pos(i)\n",
    "    tagging_okt.append(tag_word)\n",
    "    \n",
    "#\n",
    "corpus = []\n",
    "for song in tagging_okt:\n",
    "    for word in song:\n",
    "        if (word[1] == 'Adjective') or (word[1] =='Noun') or (word[1] =='Verb'):\n",
    "            corpus.append(word[0])\n",
    "            \n",
    "#\n",
    "word_dict = {}\n",
    "for i in corpus:\n",
    "    if i in word_dict:\n",
    "        word_dict[i] += 1\n",
    "    else: \n",
    "        word_dict[i] = 1\n",
    "        \n",
    "# print(word_dict)\n",
    "\n",
    "#\n",
    "\n",
    "cv = CountVectorizer(max_features=5000, stop_words=stop_w) \n",
    "tdm = cv.fit_transform(corpus)\n",
    "\n",
    "# tdm.shape\n",
    "# len(cv.get_feature_names())\n",
    "print(tdm.shape)\n",
    "print(len(cv.get_feature_names()))\n",
    "\n",
    "cv.get_feature_names()[:10]\n",
    "\n",
    "#\n",
    "wc = pd.DataFrame({\n",
    "    '단어': cv.get_feature_names(),\n",
    "    '빈도': tdm.sum(axis=0).flat\n",
    "})\n",
    "\n",
    "wc.sort_values('빈도', ascending=False).head(30)\n",
    "\n",
    "#\n",
    "WC = WordCloud(font_path='NanumBarunGothic.ttf' ,background_color='white', width=400, height=300)\n",
    "count_dic = wc.set_index('단어')['빈도'].to_dict()\n",
    "# count_dic\n",
    "cloud = WC.generate_from_frequencies(count_dic)\n",
    "cloud.to_image()\n",
    "\n",
    "# \n",
    "# jupyter notebook 내 그래프를 바로 그리기 위한 설정\n",
    "%matplotlib inline\n",
    "plt.rc('font', family='malgun gothic') # 그래프에서 한글 깨지는 현상 방지\n",
    "plt.rcParams['axes.unicode_minus']=False #음수 부호 깨짐 방지\n",
    "wc11 = wc.sort_values('빈도', ascending=False).head(11)\n",
    "sns.barplot(wc11['빈도'],wc11['단어'])\n",
    "\n",
    "sns.set(rc={'figure.figsize':(20,20)}) # , font='NanumBarunGothic.ttf'\n",
    "\n",
    "#\n",
    "# 1990 Top11 words\n",
    "wc11['year'] = '1990y'\n",
    "wc11\n"
   ]
  },
  {
   "cell_type": "code",
   "execution_count": null,
   "id": "6406672e",
   "metadata": {},
   "outputs": [],
   "source": []
  }
 ],
 "metadata": {
  "hide_input": false,
  "kernelspec": {
   "display_name": "Python 3",
   "language": "python",
   "name": "python3"
  },
  "language_info": {
   "codemirror_mode": {
    "name": "ipython",
    "version": 3
   },
   "file_extension": ".py",
   "mimetype": "text/x-python",
   "name": "python",
   "nbconvert_exporter": "python",
   "pygments_lexer": "ipython3",
   "version": "3.8.8"
  },
  "toc": {
   "base_numbering": 1,
   "nav_menu": {},
   "number_sections": true,
   "sideBar": true,
   "skip_h1_title": false,
   "title_cell": "Table of Contents",
   "title_sidebar": "Contents",
   "toc_cell": false,
   "toc_position": {},
   "toc_section_display": true,
   "toc_window_display": false
  },
  "varInspector": {
   "cols": {
    "lenName": 16,
    "lenType": 16,
    "lenVar": 40
   },
   "kernels_config": {
    "python": {
     "delete_cmd_postfix": "",
     "delete_cmd_prefix": "del ",
     "library": "var_list.py",
     "varRefreshCmd": "print(var_dic_list())"
    },
    "r": {
     "delete_cmd_postfix": ") ",
     "delete_cmd_prefix": "rm(",
     "library": "var_list.r",
     "varRefreshCmd": "cat(var_dic_list()) "
    }
   },
   "types_to_exclude": [
    "module",
    "function",
    "builtin_function_or_method",
    "instance",
    "_Feature"
   ],
   "window_display": false
  }
 },
 "nbformat": 4,
 "nbformat_minor": 5
}
